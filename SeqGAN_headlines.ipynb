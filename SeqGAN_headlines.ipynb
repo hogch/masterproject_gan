{
  "nbformat": 4,
  "nbformat_minor": 0,
  "metadata": {
    "colab": {
      "name": "SeqGAN_headlines.ipynb",
      "version": "0.3.2",
      "provenance": [],
      "collapsed_sections": [],
      "include_colab_link": true
    },
    "kernelspec": {
      "name": "python3",
      "display_name": "Python 3"
    },
    "accelerator": "GPU"
  },
  "cells": [
    {
      "cell_type": "markdown",
      "metadata": {
        "id": "view-in-github",
        "colab_type": "text"
      },
      "source": [
        "<a href=\"https://colab.research.google.com/github/hogch/masterproject_gan/blob/master/SeqGAN_headlines.ipynb\" target=\"_parent\"><img src=\"https://colab.research.google.com/assets/colab-badge.svg\" alt=\"Open In Colab\"/></a>"
      ]
    },
    {
      "metadata": {
        "id": "sjo87PQzZyc4",
        "colab_type": "text"
      },
      "cell_type": "markdown",
      "source": [
        "# Text Generation using SeqGAN\n",
        "\n",
        "This notebook generates news headlines using the Machine Learning technology GAN (Generative Adversarial Networks)."
      ]
    },
    {
      "metadata": {
        "id": "OhjZVsMcaMqB",
        "colab_type": "text"
      },
      "cell_type": "markdown",
      "source": [
        "## Import dependencies\n",
        "\n"
      ]
    },
    {
      "metadata": {
        "id": "yo4no6KeYnM3",
        "colab_type": "code",
        "outputId": "96da403f-8761-477a-9a10-3ccc91f61d1a",
        "colab": {
          "base_uri": "https://localhost:8080/",
          "height": 34
        }
      },
      "cell_type": "code",
      "source": [
        "from google.colab import drive\n",
        "drive.mount('/content/drive')"
      ],
      "execution_count": 1,
      "outputs": [
        {
          "output_type": "stream",
          "text": [
            "Drive already mounted at /content/drive; to attempt to forcibly remount, call drive.mount(\"/content/drive\", force_remount=True).\n"
          ],
          "name": "stdout"
        }
      ]
    },
    {
      "metadata": {
        "id": "OnmI7T2sZAkv",
        "colab_type": "code",
        "outputId": "e01227b1-a477-40d7-8ac8-e00f11fcb8a7",
        "colab": {
          "base_uri": "https://localhost:8080/",
          "height": 102
        }
      },
      "cell_type": "code",
      "source": [
        "%cd /content/drive/My\\ Drive/Colab\\ Notebooks/Masterproject\n",
        "!ls"
      ],
      "execution_count": 2,
      "outputs": [
        {
          "output_type": "stream",
          "text": [
            "/content/drive/My Drive/Colab Notebooks/Masterproject\n",
            "abcnews-date-text.csv\t    headlines_short_3_5.csv  screenshots\n",
            "DEV_SeqGAN_headlines.ipynb  headlines_short.csv      SeqGAN\n",
            "Graph\t\t\t    news-headlines.db\t     SeqGAN_headlines.ipynb\n",
            "headlines.csv\t\t    results\n"
          ],
          "name": "stdout"
        }
      ]
    },
    {
      "metadata": {
        "id": "vRnegJVw-2YX",
        "colab_type": "text"
      },
      "cell_type": "markdown",
      "source": [
        "**Install required dependencies manually**"
      ]
    },
    {
      "metadata": {
        "id": "bS58gcTIfiCx",
        "colab_type": "code",
        "outputId": "d59a8b25-c9eb-42a7-d107-76114e09e1ab",
        "colab": {
          "base_uri": "https://localhost:8080/",
          "height": 408
        }
      },
      "cell_type": "code",
      "source": [
        "!pip install tflearn\n",
        "!pip install tqdm\n",
        "!pip install --force https://github.com/chengs/tqdm/archive/colab.zip\n",
        "!pip install tensorboardcolab"
      ],
      "execution_count": 3,
      "outputs": [
        {
          "output_type": "stream",
          "text": [
            "Requirement already satisfied: tflearn in /usr/local/lib/python3.6/dist-packages (0.3.2)\n",
            "Requirement already satisfied: numpy in /usr/local/lib/python3.6/dist-packages (from tflearn) (1.14.6)\n",
            "Requirement already satisfied: six in /usr/local/lib/python3.6/dist-packages (from tflearn) (1.11.0)\n",
            "Requirement already satisfied: Pillow in /usr/local/lib/python3.6/dist-packages (from tflearn) (4.0.0)\n",
            "Requirement already satisfied: olefile in /usr/local/lib/python3.6/dist-packages (from Pillow->tflearn) (0.46)\n",
            "Requirement already satisfied: tqdm in /usr/local/lib/python3.6/dist-packages (4.28.1)\n",
            "Collecting https://github.com/chengs/tqdm/archive/colab.zip\n",
            "  Downloading https://github.com/chengs/tqdm/archive/colab.zip\n",
            "\u001b[K     | 481kB 570kB/s\n",
            "Building wheels for collected packages: tqdm\n",
            "  Running setup.py bdist_wheel for tqdm ... \u001b[?25l-\b \bdone\n",
            "\u001b[?25h  Stored in directory: /tmp/pip-ephem-wheel-cache-a69so2se/wheels/41/18/ee/d5dd158441b27965855b1bbae03fa2d8a91fe645c01b419896\n",
            "Successfully built tqdm\n",
            "\u001b[31mthinc 6.12.1 has requirement wrapt<1.11.0,>=1.10.0, but you'll have wrapt 1.11.1 which is incompatible.\u001b[0m\n",
            "\u001b[31mspacy 2.0.18 has requirement numpy>=1.15.0, but you'll have numpy 1.14.6 which is incompatible.\u001b[0m\n",
            "\u001b[31mpymc3 3.6 has requirement joblib<0.13.0, but you'll have joblib 0.13.1 which is incompatible.\u001b[0m\n",
            "\u001b[31mfeaturetools 0.4.1 has requirement pandas>=0.23.0, but you'll have pandas 0.22.0 which is incompatible.\u001b[0m\n",
            "Installing collected packages: tqdm\n",
            "  Found existing installation: tqdm 4.28.1\n",
            "    Uninstalling tqdm-4.28.1:\n",
            "      Successfully uninstalled tqdm-4.28.1\n",
            "Successfully installed tqdm-4.28.1\n",
            "Requirement already satisfied: tensorboardcolab in /usr/local/lib/python3.6/dist-packages (0.0.22)\n"
          ],
          "name": "stdout"
        }
      ]
    },
    {
      "metadata": {
        "id": "gDvlo_jb_A9H",
        "colab_type": "text"
      },
      "cell_type": "markdown",
      "source": [
        "**Import required modules**"
      ]
    },
    {
      "metadata": {
        "id": "6tvM_ph_8-Xl",
        "colab_type": "code",
        "outputId": "3af1f84e-19c7-483c-c66d-e766ca8b4fea",
        "colab": {
          "base_uri": "https://localhost:8080/",
          "height": 34
        }
      },
      "cell_type": "code",
      "source": [
        "import numpy as np\n",
        "import pandas as pd\n",
        "import tensorflow as tf\n",
        "import keras\n",
        "import datetime\n",
        "\n",
        "from keras.preprocessing.text import Tokenizer\n",
        "from tflearn.data_utils import pad_sequences, to_categorical\n",
        "from tensorflow.contrib import slim\n",
        "from tqdm import tqdm, tnrange\n",
        "\n",
        "from tensorboardcolab import *"
      ],
      "execution_count": 4,
      "outputs": [
        {
          "output_type": "stream",
          "text": [
            "Using TensorFlow backend.\n"
          ],
          "name": "stderr"
        }
      ]
    },
    {
      "metadata": {
        "id": "4zlW6cONe9YE",
        "colab_type": "code",
        "outputId": "793de5cd-8f94-4c03-f426-91af0d8df641",
        "colab": {
          "base_uri": "https://localhost:8080/",
          "height": 34
        }
      },
      "cell_type": "code",
      "source": [
        "device_name = tf.test.gpu_device_name()\n",
        "if device_name != '/device:GPU:0':\n",
        "  raise SystemError('GPU device not found')\n",
        "print('Found GPU at: {}'.format(device_name))"
      ],
      "execution_count": 5,
      "outputs": [
        {
          "output_type": "stream",
          "text": [
            "Found GPU at: /device:GPU:0\n"
          ],
          "name": "stdout"
        }
      ]
    },
    {
      "metadata": {
        "id": "JZEIBoWN44Dv",
        "colab_type": "text"
      },
      "cell_type": "markdown",
      "source": [
        "## Load Dataset"
      ]
    },
    {
      "metadata": {
        "id": "Al3MGHfT46pq",
        "colab_type": "code",
        "outputId": "1d49b06d-0279-4394-81de-18d61b17d8aa",
        "colab": {
          "base_uri": "https://localhost:8080/",
          "height": 221
        }
      },
      "cell_type": "code",
      "source": [
        "\"\"\"df_real = pd.read_csv('headlines.csv', sep=',', usecols=['text', 'fake'])\n",
        "df_real = df_real.sample(frac=1)\n",
        "df_real = df_real[:500000]\n",
        "print(df_real.shape)\n",
        "df_real.head()\"\"\"\n",
        "\n",
        "df_real = pd.read_csv('headlines_short.csv', sep=',', usecols=['text', 'fake'])\n",
        "df_real = df_real.sample(frac=1)\n",
        "print(df_real.shape)\n",
        "df_real.head()"
      ],
      "execution_count": 6,
      "outputs": [
        {
          "output_type": "stream",
          "text": [
            "(324518, 2)\n"
          ],
          "name": "stdout"
        },
        {
          "output_type": "execute_result",
          "data": {
            "text/html": [
              "<div>\n",
              "<style scoped>\n",
              "    .dataframe tbody tr th:only-of-type {\n",
              "        vertical-align: middle;\n",
              "    }\n",
              "\n",
              "    .dataframe tbody tr th {\n",
              "        vertical-align: top;\n",
              "    }\n",
              "\n",
              "    .dataframe thead th {\n",
              "        text-align: right;\n",
              "    }\n",
              "</style>\n",
              "<table border=\"1\" class=\"dataframe\">\n",
              "  <thead>\n",
              "    <tr style=\"text-align: right;\">\n",
              "      <th></th>\n",
              "      <th>text</th>\n",
              "      <th>fake</th>\n",
              "    </tr>\n",
              "  </thead>\n",
              "  <tbody>\n",
              "    <tr>\n",
              "      <th>214275</th>\n",
              "      <td>rea quickest in superbike practise</td>\n",
              "      <td>0</td>\n",
              "    </tr>\n",
              "    <tr>\n",
              "      <th>313988</th>\n",
              "      <td>new bunbury digital screen scrapped</td>\n",
              "      <td>0</td>\n",
              "    </tr>\n",
              "    <tr>\n",
              "      <th>26634</th>\n",
              "      <td>adelaide police investigate suspicious death</td>\n",
              "      <td>0</td>\n",
              "    </tr>\n",
              "    <tr>\n",
              "      <th>286010</th>\n",
              "      <td>walsh opens upgraded kerang levee</td>\n",
              "      <td>0</td>\n",
              "    </tr>\n",
              "    <tr>\n",
              "      <th>17846</th>\n",
              "      <td>dollar steadies volatile stock market</td>\n",
              "      <td>0</td>\n",
              "    </tr>\n",
              "  </tbody>\n",
              "</table>\n",
              "</div>"
            ],
            "text/plain": [
              "                                                text  fake\n",
              "214275            rea quickest in superbike practise     0\n",
              "313988           new bunbury digital screen scrapped     0\n",
              "26634   adelaide police investigate suspicious death     0\n",
              "286010             walsh opens upgraded kerang levee     0\n",
              "17846          dollar steadies volatile stock market     0"
            ]
          },
          "metadata": {
            "tags": []
          },
          "execution_count": 6
        }
      ]
    },
    {
      "metadata": {
        "id": "P1HQ85uyARIJ",
        "colab_type": "code",
        "outputId": "834a58d1-7c5c-4198-e5d8-f727470c89aa",
        "colab": {
          "base_uri": "https://localhost:8080/",
          "height": 66
        }
      },
      "cell_type": "code",
      "source": [
        "df_fake = pd.DataFrame(columns=['text', 'fake'])\n",
        "print(df_fake.shape)\n",
        "df_fake.head()"
      ],
      "execution_count": 7,
      "outputs": [
        {
          "output_type": "stream",
          "text": [
            "(0, 2)\n"
          ],
          "name": "stdout"
        },
        {
          "output_type": "execute_result",
          "data": {
            "text/html": [
              "<div>\n",
              "<style scoped>\n",
              "    .dataframe tbody tr th:only-of-type {\n",
              "        vertical-align: middle;\n",
              "    }\n",
              "\n",
              "    .dataframe tbody tr th {\n",
              "        vertical-align: top;\n",
              "    }\n",
              "\n",
              "    .dataframe thead th {\n",
              "        text-align: right;\n",
              "    }\n",
              "</style>\n",
              "<table border=\"1\" class=\"dataframe\">\n",
              "  <thead>\n",
              "    <tr style=\"text-align: right;\">\n",
              "      <th></th>\n",
              "      <th>text</th>\n",
              "      <th>fake</th>\n",
              "    </tr>\n",
              "  </thead>\n",
              "  <tbody>\n",
              "  </tbody>\n",
              "</table>\n",
              "</div>"
            ],
            "text/plain": [
              "Empty DataFrame\n",
              "Columns: [text, fake]\n",
              "Index: []"
            ]
          },
          "metadata": {
            "tags": []
          },
          "execution_count": 7
        }
      ]
    },
    {
      "metadata": {
        "id": "UFCT682iAiwC",
        "colab_type": "text"
      },
      "cell_type": "markdown",
      "source": [
        "## Define Test-, Trainingset and Hyper-Parameter"
      ]
    },
    {
      "metadata": {
        "id": "mat90D4fAnPR",
        "colab_type": "code",
        "colab": {}
      },
      "cell_type": "code",
      "source": [
        "# General Hyper-Parameter\n",
        "BATCH_SIZE = 64\n",
        "SEQ_LENGTH = 5 # average sequence length of the given sentences in the dataset\n",
        "TRAINING_SPLIT = 1\n",
        "TOTAL_EPOCHS = 200\n",
        "\n",
        "# Discriminator Hyper-Parameter\n",
        "D_PRETRAIN_EPOCHS = 50\n",
        "D_EPOCHS = 3\n",
        "D_EMB_SIZE = 300\n",
        "D_NUM_CLASSES = 2\n",
        "D_FILTER_SIZES = [1,2,3,4,5]\n",
        "D_NUM_FILTERS = 128\n",
        "D_DROPOUT = 0.4\n",
        "D_LEARNING_RATE = 0.01\n",
        "\n",
        "# Generator Hyper-Parameter\n",
        "G_PRETRAIN_EPOCHS = 1000\n",
        "G_EPOCHS = 5\n",
        "G_EMB_SIZE = 300\n",
        "G_HIDDEN_LAYER_SIZES = [32] # hidden state dimension of lstm cell\n",
        "G_TEMPERATURE = 0.5\n",
        "G_DROPOUT = 0.4\n",
        "G_LEARNING_RATE = 0.001"
      ],
      "execution_count": 0,
      "outputs": []
    },
    {
      "metadata": {
        "id": "xzlveGkqehSq",
        "colab_type": "code",
        "colab": {}
      },
      "cell_type": "code",
      "source": [
        "def load_data(df):\n",
        "  texts = []\n",
        "  labels = []\n",
        "  \n",
        "  for row in zip(df['text'], df['fake']):\n",
        "    texts.append(row[0].strip())\n",
        "    labels.append(row[1])\n",
        "  \n",
        "  return texts, labels"
      ],
      "execution_count": 0,
      "outputs": []
    },
    {
      "metadata": {
        "id": "jMsZPbs5VFu2",
        "colab_type": "code",
        "colab": {
          "base_uri": "https://localhost:8080/",
          "height": 34
        },
        "outputId": "8c39d3b0-f3b9-41e6-bc5f-d2fcce745a91"
      },
      "cell_type": "code",
      "source": [
        "tokenizer = Tokenizer()\n",
        "texts, labels = load_data(df_real)\n",
        "tokenizer.fit_on_texts(texts)\n",
        "\n",
        "#sorted_word_count = sorted(tokenizer.word_counts.items(), key=lambda x: x[1], reverse=True)\n",
        "#WORD_INDEX_BIG = [word for idx, word in enumerate(tokenizer.word_index)]\n",
        "WORD_INDEX = [w for w, c in tokenizer.word_counts.items() if c > 5]\n",
        "\n",
        "VOCAB_SIZE = len(WORD_INDEX)\n",
        "\n",
        "print(VOCAB_SIZE)"
      ],
      "execution_count": 10,
      "outputs": [
        {
          "output_type": "stream",
          "text": [
            "17751\n"
          ],
          "name": "stdout"
        }
      ]
    },
    {
      "metadata": {
        "id": "dNP674HF22oU",
        "colab_type": "code",
        "colab": {}
      },
      "cell_type": "code",
      "source": [
        "import random\n",
        "\n",
        "def get_datasets(texts, labels):\n",
        "  sequences = tokenizer.texts_to_sequences(texts)\n",
        "  text_seq = pad_sequences(sequences, maxlen=SEQ_LENGTH)\n",
        "    \n",
        "  labels = np.asarray(labels)\n",
        "  indices = np.arange(text_seq.shape[0])\n",
        "  np.random.shuffle(indices)\n",
        "  text_seq = text_seq[indices]\n",
        "  labels = labels[indices]\n",
        "  \n",
        "  test_size = int(TRAINING_SPLIT * text_seq.shape[0])\n",
        "  \n",
        "  X_train = text_seq[:test_size]\n",
        "  y_train = to_categorical(labels[:test_size], 2)\n",
        "  X_test = text_seq[test_size:]\n",
        "  y_test = to_categorical(labels[test_size:], 2)\n",
        "  \n",
        "  return X_train[:BATCH_SIZE], y_train[:BATCH_SIZE], X_test[:BATCH_SIZE], y_test[:BATCH_SIZE]\n",
        "  \n",
        "def get_fake_data():\n",
        "  global df_fake\n",
        "  df_fake = df_fake.sample(frac=1)\n",
        "  \n",
        "  texts, labels = load_data(df_fake)\n",
        "  return get_datasets(texts, labels)\n",
        "\n",
        "def get_real_data():\n",
        "  global df_real\n",
        "  df_real = df_real.sample(frac=1)\n",
        "\n",
        "  texts, labels = load_data(df_real)\n",
        "  return get_datasets(texts, labels)\n",
        "\n",
        "def get_mixed_data():\n",
        "  # global notation ???\n",
        "  real = df_real.sample(frac=1)\n",
        "  fake = df_fake.sample(frac=1)\n",
        "  df = pd.concat([real[:BATCH_SIZE*6], fake[:BATCH_SIZE*6]])\n",
        "  df = df.sample(frac=1)\n",
        "  \n",
        "  texts, labels = load_data(df)\n",
        "  return get_datasets(texts, labels)\n"
      ],
      "execution_count": 0,
      "outputs": []
    },
    {
      "metadata": {
        "id": "qIo4O_PW1Hfo",
        "colab_type": "text"
      },
      "cell_type": "markdown",
      "source": [
        "## Discriminator\n",
        "model for classifying sequences (here headlines) as real or fake.\n",
        "In this implementation the discriminative model uses following layers: \n",
        "1.   embedding layer\n",
        "2.   convolution layer with max-pooling operation\n",
        "4.   softmax layer"
      ]
    },
    {
      "metadata": {
        "colab_type": "code",
        "id": "k3UdGGRc5FfF",
        "colab": {}
      },
      "cell_type": "code",
      "source": [
        "class Discriminator:\n",
        "  def __init__(self, batch_size, vocab_size, seq_length, emb_size, num_classes, \n",
        "               filter_sizes, num_filters, learning_rate):\n",
        "    self.batch_size = batch_size\n",
        "    self.vocab_size = vocab_size\n",
        "    self.seq_length = seq_length\n",
        "    self.emb_size = emb_size\n",
        "    self.num_classes = num_classes\n",
        "    self.filter_sizes = filter_sizes\n",
        "    self.num_filters = num_filters\n",
        "    self.learning_rate = learning_rate\n",
        "\n",
        "    self.X_input = tf.placeholder(tf.int32, shape=[self.batch_size, self.seq_length], name='d_X_input')\n",
        "    self.y_input = tf.placeholder(tf.int32, shape=[self.batch_size, self.num_classes], name='d_y_input')\n",
        "    self.dropout_keep_prob = tf.placeholder(tf.float32, name='d_dropout_keep_prob')\n",
        "    \n",
        "    # Keeping track of l2 regularization loss (optional)\n",
        "    self.l2_reg_lambda = 0.2\n",
        "    self.l2_loss = tf.constant(0.0)\n",
        "\n",
        "  def build_model(self):\n",
        "    with tf.variable_scope('discriminator', reuse=tf.AUTO_REUSE):\n",
        "      self.embedding_layer = self.build_embedding_layer()\n",
        "      self.convolution_maxpool_layer = self.build_convolution_maxpool_layer()\n",
        "      self.scores, self.predictions = self.build_softmax_layer()\n",
        "\n",
        "      self.calc_mean_cross_entropy_loss()\n",
        "      self.calc_accuracy()\n",
        "\n",
        "      self.optimizer = tf.train.AdamOptimizer(learning_rate=self.learning_rate).minimize(self.loss)\n",
        "      \n",
        "      self.d_summary = tf.summary.merge([\n",
        "          tf.summary.scalar('d_loss', self.loss),\n",
        "          tf.summary.scalar('d_accuracy', self.accuracy)\n",
        "      ])\n",
        "        \n",
        "  def build_embedding_layer(self):\n",
        "    with tf.device('gpu:0'), tf.name_scope('d_embedding_layer'):\n",
        "      emb_matrix = tf.Variable(tf.random_uniform([self.vocab_size, self.emb_size], -1.0, 1.0))\n",
        "      emb_lookup = tf.nn.embedding_lookup(emb_matrix, self.X_input)\n",
        "      emb_lookup_expand = tf.expand_dims(emb_lookup, -1)\n",
        "      \n",
        "      return emb_lookup_expand\n",
        "    \n",
        "  def build_convolution_maxpool_layer(self):\n",
        "    with tf.name_scope('d_convolution_maxpool_layer'):\n",
        "      pooled_outputs = []\n",
        "      for filter_size in self.filter_sizes:\n",
        "        with tf.name_scope('d_conv-maxpool-%s' % filter_size):\n",
        "          # Convolution Layer\n",
        "          filter_shape = [filter_size, self.emb_size, 1, self.num_filters]\n",
        "          W = tf.Variable(tf.truncated_normal(filter_shape, stddev=0.1), name='d_W')\n",
        "          b = tf.Variable(tf.constant(0.1, shape=[self.num_filters]), name='d_b')\n",
        "          conv = tf.nn.conv2d(\n",
        "              input=self.embedding_layer,\n",
        "              filter=W,\n",
        "              strides=[1,1,1,1], # the filter is applied to the input in one-pixel intervals in each dimension, corresponding to a “full” convolution\n",
        "              padding='VALID',\n",
        "              name='d_conv'\n",
        "          )\n",
        "          # Apply non-linearity - activation function\n",
        "          activation = tf.nn.relu(tf.nn.bias_add(conv, b), name='d_relu')\n",
        "          # Maxpooling over outputs\n",
        "          max_pooling = tf.nn.max_pool(\n",
        "              value=activation,\n",
        "              ksize=[1, self.seq_length-filter_size+1, 1, 1],\n",
        "              strides=[1,1,1,1],\n",
        "              padding='VALID',\n",
        "              name='max_pooling'\n",
        "          )\n",
        "          pooled_outputs.append(max_pooling)\n",
        "\n",
        "      # combine all the pooled features\n",
        "      self.num_filter_total = self.num_filters * len(self.filter_sizes)\n",
        "      h_pool = tf.concat(pooled_outputs, axis=3)\n",
        "      \n",
        "      return tf.reshape(h_pool, [-1, self.num_filter_total])\n",
        "        \n",
        "  def build_softmax_layer(self): \n",
        "    with tf.name_scope('highway'):\n",
        "      self.h_highway = self.highway(\n",
        "          self.convolution_maxpool_layer, self.convolution_maxpool_layer.get_shape()[1], 1, 0\n",
        "      )\n",
        "\n",
        "    with tf.name_scope('dropout'):\n",
        "      self.h_drop = tf.nn.dropout(self.h_highway, self.dropout_keep_prob)\n",
        "      \n",
        "    with tf.name_scope('softmax_output'):\n",
        "      W_softmax = tf.Variable(\n",
        "          tf.truncated_normal(\n",
        "              [self.num_filter_total, self.num_classes], \n",
        "              stddev=0.1\n",
        "          ), name='d_W_softmax'\n",
        "      )\n",
        "      b_softmax = tf.Variable(tf.constant(0.1, shape=[self.num_classes]), name='d_b_softmax')\n",
        "            \n",
        "      self.l2_loss += tf.nn.l2_loss(W_softmax)\n",
        "      self.l2_loss += tf.nn.l2_loss(b_softmax)\n",
        "      \n",
        "      self.scores = tf.nn.xw_plus_b(self.h_drop, W_softmax, b_softmax, name='d_scores')\n",
        "      #self.scores = tf.matmul(self.convolution_maxpool_layer, W_softmax) + b_softmax\n",
        "      self.truth_prob = tf.nn.softmax(self.scores, -1)[:, 1]\n",
        "      predictions = tf.argmax(self.scores, 1, name='d_predictions')\n",
        "      \n",
        "    return self.scores, predictions\n",
        "  \n",
        "  def calc_mean_cross_entropy_loss(self):\n",
        "    with tf.name_scope('d_loss'):\n",
        "      losses = tf.nn.softmax_cross_entropy_with_logits_v2(logits=self.scores, labels=self.y_input)\n",
        "      self.loss = tf.reduce_mean(losses) + self.l2_reg_lambda * self.l2_loss\n",
        "      \n",
        "  def calc_accuracy(self):\n",
        "    with tf.name_scope('d_accuracy'):\n",
        "      correct_predictions = tf.equal(self.predictions, tf.argmax(self.y_input, 1))\n",
        "      self.accuracy = tf.reduce_mean(tf.cast(correct_predictions, 'float'), name='accuracy')\n",
        "      \n",
        "  def highway(self, input_, size, num_layers=1, bias=-2.0, f=tf.nn.relu):\n",
        "    \"\"\"Highway Network (cf. http://arxiv.org/abs/1505.00387).\n",
        "    t = sigmoid(Wy + b)\n",
        "    z = t * g(Wy + b) + (1 - t) * y\n",
        "    where g is nonlinearity, t is transform gate, and (1 - t) is carry gate.\n",
        "    \"\"\"\n",
        "    with tf.variable_scope('highway'):\n",
        "      size = int(size)\n",
        "      for idx in range(num_layers):\n",
        "        g = f(slim.fully_connected(input_, size, scope='highway_lin_%d' % idx, activation_fn=None))\n",
        "        t = tf.sigmoid(slim.fully_connected(input_, size, scope='highway_gate_%d' % idx, activation_fn=None) + bias)\n",
        "\n",
        "        output = t * g + (1. - t) * input_\n",
        "        input_ = output\n",
        "        \n",
        "    return output\n",
        "  \n",
        "  def get_truth_prob(self, sess, X):\n",
        "    feed_dict = { self.X_input: X, self.dropout_keep_prob: 1.0 }\n",
        "        \n",
        "    return sess.run(self.truth_prob, feed_dict=feed_dict)\n",
        "        \n",
        "  def train(self, sess, X, y, dropout):\n",
        "    feed_dict = {\n",
        "        self.X_input: X,\n",
        "        self.y_input: y,\n",
        "        self.dropout_keep_prob: dropout\n",
        "    }\n",
        "    _, summary, loss, acc = sess.run([\n",
        "        self.optimizer, \n",
        "        self.d_summary,\n",
        "        self.loss,\n",
        "        self.accuracy\n",
        "    ], feed_dict=feed_dict)\n",
        "    \n",
        "    return summary, loss, acc"
      ],
      "execution_count": 0,
      "outputs": []
    },
    {
      "metadata": {
        "id": "B86yDcx3TC4v",
        "colab_type": "text"
      },
      "cell_type": "markdown",
      "source": [
        "## Build Discriminator model and train model"
      ]
    },
    {
      "metadata": {
        "id": "UnVPueM8TXwc",
        "colab_type": "code",
        "colab": {}
      },
      "cell_type": "code",
      "source": [
        "tf.reset_default_graph()\n",
        "\n",
        "discriminator = Discriminator(BATCH_SIZE, VOCAB_SIZE, SEQ_LENGTH, D_EMB_SIZE, \n",
        "                              D_NUM_CLASSES, D_FILTER_SIZES, D_NUM_FILTERS, D_LEARNING_RATE)\n",
        "discriminator.build_model()"
      ],
      "execution_count": 0,
      "outputs": []
    },
    {
      "metadata": {
        "id": "hmjkZBeH557j",
        "colab_type": "text"
      },
      "cell_type": "markdown",
      "source": [
        "## Generator\n",
        "\n",
        "LSTM with Reinforcement Learning for sequence generation."
      ]
    },
    {
      "metadata": {
        "id": "lcALithWy39s",
        "colab_type": "code",
        "colab": {}
      },
      "cell_type": "code",
      "source": [
        "from tensorflow.contrib import rnn, layers, seq2seq, slim\n",
        "import random\n",
        "\n",
        "# inspired by https://www.oreilly.com/ideas/introduction-to-lstms-with-tensorflow\n",
        "\n",
        "class Generator:\n",
        "  def __init__(self, batch_size, seq_length, vocab_size, emb_size, temperature,\n",
        "               hidden_layer_sizes, word_index, learning_rate):\n",
        "    self.batch_size = batch_size\n",
        "    self.seq_length = seq_length\n",
        "    self.vocab_size = vocab_size\n",
        "    self.emb_size = emb_size\n",
        "    self.hidden_layer_sizes = hidden_layer_sizes\n",
        "    self.word_index = word_index\n",
        "    self.learning_rate = learning_rate\n",
        "    self.temperature = temperature\n",
        "    \n",
        "    self.grad_clip = 5.0\n",
        "    \n",
        "    self.X_input = tf.placeholder(tf.int32, shape=[self.batch_size, self.seq_length], name='g_X_input')\n",
        "    self.dropout_keep_prob = tf.placeholder(tf.float32, name='g_dropout_keep_prob')\n",
        "    self.rewards = tf.placeholder(tf.float32, shape=[self.batch_size, self.seq_length], name='rewards')\n",
        "    \n",
        "  def build_model(self):\n",
        "    with tf.variable_scope('generator', reuse=tf.AUTO_REUSE):\n",
        "      self.embedding_layer = self.build_embedding_layer(self.X_input)\n",
        "      self.outputs, final_state = self.build_lstm_layers()\n",
        "      \n",
        "      # PRETRAINING\n",
        "      \"\"\"pretrain_optimizer = tf.train.AdamOptimizer(learning_rate=self.learning_rate)\n",
        "      pretrain_loss = self.get_pretrain_loss()\n",
        "      self.pretrain_operation = slim.learning.create_train_op(\n",
        "          pretrain_loss, pretrain_optimizer, clip_gradient_norm=self.grad_clip\n",
        "      )\"\"\"\n",
        "      \n",
        "      # TRAINING\n",
        "      self.predictions, self.loss = self.get_prediction_and_loss()\n",
        "      optimizer = tf.train.AdamOptimizer(learning_rate=self.learning_rate)\n",
        "      self.train_operation = slim.learning.create_train_op(\n",
        "          self.loss, optimizer, clip_gradient_norm=self.grad_clip\n",
        "      )\n",
        "                  \n",
        "      # SUMMARY\n",
        "      #self.g_pretrain_summary = tf.summary.scalar('g_pretrain_loss', pretrain_loss)\n",
        "      self.g_train_summary = tf.summary.merge([\n",
        "          tf.summary.scalar('g_loss', self.loss),\n",
        "          tf.summary.scalar('g_reward', tf.reduce_mean(self.rewards))\n",
        "      ])\n",
        "        \n",
        "  def build_embedding_layer(self, X_input):\n",
        "    with tf.name_scope('g_embedding_layer'):\n",
        "      emb_matrix = tf.Variable(tf.random_uniform([self.vocab_size, self.emb_size], -1.0, 1.0))\n",
        "      emb_lookup = tf.nn.embedding_lookup(emb_matrix, X_input)\n",
        "      \n",
        "    return emb_lookup\n",
        "      \n",
        "  def build_lstm_layers(self):\n",
        "    with tf.name_scope('g_lstm_layers'):\n",
        "      layers = [rnn.LSTMCell(layer_size) for layer_size in self.hidden_layer_sizes]\n",
        "      dropouts = [rnn.DropoutWrapper(layer, output_keep_prob=self.dropout_keep_prob) for layer in layers]\n",
        "      cell = rnn.MultiRNNCell(dropouts) # , state_is_tuple=True)?\n",
        "      \n",
        "      initial_state = cell.zero_state(self.batch_size, tf.float32)\n",
        "      outputs, final_state = tf.nn.dynamic_rnn(cell, self.embedding_layer, initial_state=initial_state)\n",
        "      \n",
        "    return outputs, final_state\n",
        "  \n",
        "  \"\"\"def get_pretrain_loss(self):\n",
        "    W2 = tf.Variable(tf.random_normal([self.hidden_layer_sizes[-1], self.vocab_size]), dtype=tf.float32)\n",
        "    b2 = tf.Variable(tf.zeros([1, self.vocab_size]), dtype=tf.float32)\n",
        "      \n",
        "    output = tf.reshape(self.outputs, [-1, self.hidden_layer_sizes[-1]])\n",
        "    logits = tf.matmul(output, W2) + b2 # broadcasted addition\n",
        "    \n",
        "    loss = tf.reduce_mean(tf.nn.softmax_cross_entropy_with_logits_v2(\n",
        "        labels=self.X_input, logits=logits[-1]\n",
        "    ))\n",
        "    \n",
        "    return loss\"\"\"\n",
        "  \n",
        "  def get_prediction_and_loss(self):\n",
        "    predictions = []\n",
        "    W2 = tf.Variable(tf.random_normal([self.hidden_layer_sizes[-1], self.vocab_size]), dtype=tf.float32)\n",
        "    b2 = tf.Variable(tf.zeros([1, self.vocab_size]), dtype=tf.float32)\n",
        "      \n",
        "    output = tf.reshape(self.outputs, [-1, self.hidden_layer_sizes[-1]])\n",
        "    logits = tf.matmul(output, W2) + b2 # broadcasted addition\n",
        "    predictions.append(tf.nn.softmax(tf.div(logits, self.temperature)))\n",
        "      \n",
        "    loss = -tf.reduce_sum(\n",
        "      tf.one_hot(tf.to_int32(tf.reshape(self.X_input, [-1])), self.vocab_size, 1.0, 0.0) * \n",
        "      tf.log(tf.clip_by_value(tf.reshape(predictions[-1], [-1, self.vocab_size]), 1e-20, 1.0))\n",
        "    ) / (self.seq_length * self.batch_size)\n",
        "    \n",
        "    return predictions, loss\n",
        "      \n",
        "  def generate(self, sess, given_tokens, dropout):\n",
        "    feed_dict = { self.X_input: given_tokens, self.dropout_keep_prob: dropout }\n",
        "    samples = sess.run([self.predictions], feed_dict=feed_dict)\n",
        "    sentences, sequences = self.translate_samples(samples)\n",
        "    \n",
        "    return sentences, sequences\n",
        "    \n",
        "  # # # # # # # # # # # # # # # # # # # # # # # # # # # # # #\n",
        "  # REINFORCEMENT LEARNING  \n",
        "  def get_reward(self, sess, given_tokens, rollout_num, dis, dropout):\n",
        "    rewards = np.zeros((self.batch_size, self.seq_length))\n",
        "        \n",
        "    for i in range(rollout_num):\n",
        "      for given_num in range(1, self.seq_length):\n",
        "        feed_dict = { self.X_input: given_tokens, self.dropout_keep_prob: dropout }\n",
        "        samples = sess.run(self.predictions, feed_dict=feed_dict)\n",
        "        sentences, sequence = self.translate_samples(samples)\n",
        "        rewards[:, given_num] += dis.get_truth_prob(sess, sequence)\n",
        "            \n",
        "    rewards /= rollout_num\n",
        "    return rewards\n",
        "  # # # # # # # # # # # # # # # # # # # # # # # # # # # # # #\n",
        "  \n",
        "  def pretrain(self, sess, given_tokens, dropout):\n",
        "    feed_dict = { self.X_input: given_tokens, self.dropout_keep_prob: dropout }\n",
        "    sess.run(self.pretrain_operation, feed_dict=feed_dict)\n",
        "    _, summary = sess.run([self.pretrain_operation, self.g_pretrain_summary], feed_dict=feed_dict)\n",
        "    \n",
        "    return summary\n",
        "  \n",
        "  def train(self, sess, given_tokens, rewards, dropout):\n",
        "    feed_dict = { self.X_input: given_tokens, self.rewards: rewards, self.dropout_keep_prob: dropout }\n",
        "    _, summary, loss, rewards = sess.run([\n",
        "        self.train_operation, \n",
        "        self.g_train_summary, \n",
        "        self.loss, \n",
        "        tf.reduce_mean(self.rewards)\n",
        "    ], feed_dict=feed_dict)\n",
        "    \n",
        "    return summary, loss, rewards\n",
        "  \n",
        "  def translate_samples(self, sequence):\n",
        "    batch_softmax = np.reshape(sequence, [self.batch_size, self.seq_length, self.vocab_size])\n",
        "\n",
        "    sentences = []\n",
        "    vectors = []\n",
        "    for sequence in batch_softmax:\n",
        "      sentence = ''\n",
        "      vector = []\n",
        "      for pos in sequence:\n",
        "        vector_position = np.argmax(pos)\n",
        "        vector.append(vector_position)\n",
        "        word = self.word_index[vector_position]\n",
        "        sentence += word\n",
        "        sentence += ' '\n",
        "\n",
        "      sentences.append(sentence)\n",
        "      vectors.append(vector)\n",
        "\n",
        "    vectors = np.asarray(vectors)\n",
        "    return sentences, vectors"
      ],
      "execution_count": 0,
      "outputs": []
    },
    {
      "metadata": {
        "id": "V03XEe_uVdwq",
        "colab_type": "text"
      },
      "cell_type": "markdown",
      "source": [
        "## Build Generator model"
      ]
    },
    {
      "metadata": {
        "id": "PW7Hyz2J6jro",
        "colab_type": "code",
        "colab": {}
      },
      "cell_type": "code",
      "source": [
        "generator = Generator(BATCH_SIZE, SEQ_LENGTH, VOCAB_SIZE, G_EMB_SIZE, G_TEMPERATURE,\n",
        "                      G_HIDDEN_LAYER_SIZES, WORD_INDEX, G_LEARNING_RATE)\n",
        "\n",
        "generator.build_model()"
      ],
      "execution_count": 0,
      "outputs": []
    },
    {
      "metadata": {
        "id": "uccb8c0sViK5",
        "colab_type": "text"
      },
      "cell_type": "markdown",
      "source": [
        "## Start Adversarial Training"
      ]
    },
    {
      "metadata": {
        "id": "hN-drlXj1Kyj",
        "colab_type": "code",
        "outputId": "ffd39eb4-d33f-46f1-f955-cd21ad8adcc1",
        "colab": {
          "base_uri": "https://localhost:8080/",
          "height": 68
        }
      },
      "cell_type": "code",
      "source": [
        "tbc=TensorBoardColab()\n",
        "\n",
        "LOG_DIR = '/tmp/log'\n",
        "get_ipython().system_raw(\n",
        "    'tensorboard --logdir {} --host 0.0.0.0 --port 6006 &'\n",
        "    .format(LOG_DIR)\n",
        ")"
      ],
      "execution_count": 16,
      "outputs": [
        {
          "output_type": "stream",
          "text": [
            "Wait for 8 seconds...\n",
            "TensorBoard link:\n",
            "https://e66cd4c9.ngrok.io\n"
          ],
          "name": "stdout"
        }
      ]
    },
    {
      "metadata": {
        "id": "ymHD3nwRtS7C",
        "colab_type": "code",
        "colab": {}
      },
      "cell_type": "code",
      "source": [
        "def add_fake_samples(headlines):\n",
        "  global df_fake\n",
        "  \n",
        "  for headline in headlines:\n",
        "    df_fake = df_fake.append({'text': headline , 'fake': 1} , ignore_index=True)"
      ],
      "execution_count": 0,
      "outputs": []
    },
    {
      "metadata": {
        "id": "GbdSazLhVllp",
        "colab_type": "code",
        "outputId": "fa232e31-290b-425e-a4b0-3807a36e9b94",
        "colab": {
          "base_uri": "https://localhost:8080/",
          "height": 9944
        }
      },
      "cell_type": "code",
      "source": [
        "with tf.Session() as sess:\n",
        "  print('start GAN training at', datetime.datetime.now())\n",
        "  writer = tbc.get_writer()\n",
        "  sess.run(tf.global_variables_initializer())\n",
        "    \n",
        "  # PRETRAINING GENERATOR\n",
        "  \"\"\"for epoch in range(G_PRETRAIN_EPOCHS):\n",
        "    # seq_length -1 und von 1 anfangen\n",
        "    X_train, y_train, X_test, y_test = get_real_data()\n",
        "    summary = generator.pretrain(sess, X_train, G_DROPOUT)\n",
        "    writer.add_summary(summary, epoch)\n",
        "    \n",
        "  # PRETRAIN DISCRIMINATOR\n",
        "  for eoch in range(D_PRETRAIN_EPOCHS):\n",
        "    X_train, y_train, X_test, y_test = get_real_data()\n",
        "    fake_sentences, fake_sequences = generator.generate(sess, X_train, G_DROPOUT)\n",
        "    #translate_samples(tokenizer, fake_samples, df_fake)\n",
        "    \n",
        "    for _ in range(3):\n",
        "      X_train, y_train, X_test, y_test = get_mixed_data()\n",
        "      discriminator.train(sess, X_train, y_train, D_DROPOUT)\"\"\"\n",
        "\n",
        "  # ADVERSARIAL TRAINING\n",
        "  for epoch in tnrange(TOTAL_EPOCHS, desc='gan_epoch_loop'):\n",
        "    X_train, y_train, X_test, y_test = get_real_data()\n",
        "    fake_sentences, fake_sequences = generator.generate(sess, X_train, G_DROPOUT)\n",
        "    add_fake_samples(fake_sentences)\n",
        "    \n",
        "    rewards = generator.get_reward(sess, fake_sequences, 16, discriminator, G_DROPOUT)\n",
        "    summary, g_loss, reward = generator.train(sess, fake_sequences, rewards, G_DROPOUT)\n",
        "    writer.add_summary(summary, epoch)\n",
        "    \n",
        "    print('g_summary: loss={0:.3f}, reward={1:.3f}'.format(g_loss, reward))\n",
        "    \n",
        "    for _ in tnrange(G_EPOCHS, desc='gen_train_loop'):\n",
        "      X_train, y_train, X_test, y_test = get_real_data()\n",
        "      fake_sentences, fake_sequences = generator.generate(sess, X_train, G_DROPOUT)\n",
        "      add_fake_samples(fake_sentences)\n",
        "      \n",
        "      for _ in tnrange(D_EPOCHS, desc='dis_train_loop'):\n",
        "        X_train, y_train, X_test, y_test = get_mixed_data()\n",
        "        summary, d_loss, d_acc = discriminator.train(sess, X_train, y_train, D_DROPOUT)\n",
        "        \n",
        "      print('d_summary: loss={0:.3f}, accuracy={1:.3f}'.format(d_loss, d_acc))\n",
        "        \n",
        "    writer.add_summary(summary, epoch)\n",
        "    print(df_fake.tail(2))\n",
        "    \n",
        "    \"\"\"tokenizer, word_index, X_real_train, y_real_train, X_real_test, y_real_test = get_real_data()\n",
        "    summary = sess.run(generator.image_summary, feed_dict={ generator.given_tokens: X_real_train[:BATCH_SIZE] })\n",
        "    writer.add_summary(summary, epoch)\"\"\"\n",
        "    \n",
        "  print('finish GAN training at', datetime.datetime.now())"
      ],
      "execution_count": 18,
      "outputs": [
        {
          "output_type": "stream",
          "text": [
            "start GAN training at 2019-01-30 00:08:54.364118\n"
          ],
          "name": "stdout"
        },
        {
          "output_type": "stream",
          "text": [
            "/usr/local/lib/python3.6/dist-packages/tqdm/_tqdm_notebook.py:88: TqdmExperimentalWarning: Detect Google Colab 0.0.1a2 and thus load dummy ipywidgets package. Note that UI is different from that in Jupyter. See https://github.com/tqdm/tqdm/pull/640\n",
            "  \" See https://github.com/tqdm/tqdm/pull/640\".format(colab.__version__), TqdmExperimentalWarning)\n"
          ],
          "name": "stderr"
        },
        {
          "output_type": "display_data",
          "data": {
            "text/html": [
              "<div style=\"display:flex;flex-direction:row;\"><span>gan_epoch_loop</span><progress style='margin:2px 4px;description_width:initial;' max='200' value='34'></progress> 17% 34/200 [24:27&lt;2:00:03, 43.40s/it]</div>"
            ],
            "text/plain": [
              "<tqdm._fake_ipywidgets.HBox object>"
            ]
          },
          "metadata": {
            "tags": []
          }
        },
        {
          "output_type": "stream",
          "text": [
            "g_summary: loss=14.115, reward=0.299\n"
          ],
          "name": "stdout"
        },
        {
          "output_type": "display_data",
          "data": {
            "text/html": [
              "<div style=\"display:flex;flex-direction:row;\"><span>gen_train_loop</span><progress style='margin:2px 4px;description_width:initial;' max='5' value='5'></progress>100% 5/5 [00:33&lt;00:00,  6.63s/it]</div>"
            ],
            "text/plain": [
              "<tqdm._fake_ipywidgets.HBox object>"
            ]
          },
          "metadata": {
            "tags": []
          }
        },
        {
          "output_type": "display_data",
          "data": {
            "text/html": [
              "<div style=\"display:flex;flex-direction:row;\"><span>dis_train_loop</span><progress style='margin:2px 4px;description_width:initial;' max='3' value='3'></progress>100% 3/3 [00:00&lt;00:00,  4.29it/s]</div>"
            ],
            "text/plain": [
              "<tqdm._fake_ipywidgets.HBox object>"
            ]
          },
          "metadata": {
            "tags": []
          }
        },
        {
          "output_type": "stream",
          "text": [
            "d_summary: loss=4.651, accuracy=0.562\n"
          ],
          "name": "stdout"
        },
        {
          "output_type": "display_data",
          "data": {
            "text/html": [
              "<div style=\"display:flex;flex-direction:row;\"><span>dis_train_loop</span><progress style='margin:2px 4px;description_width:initial;' max='3' value='3'></progress>100% 3/3 [00:00&lt;00:00,  9.81it/s]</div>"
            ],
            "text/plain": [
              "<tqdm._fake_ipywidgets.HBox object>"
            ]
          },
          "metadata": {
            "tags": []
          }
        },
        {
          "output_type": "stream",
          "text": [
            "d_summary: loss=1.925, accuracy=0.766\n"
          ],
          "name": "stdout"
        },
        {
          "output_type": "display_data",
          "data": {
            "text/html": [
              "<div style=\"display:flex;flex-direction:row;\"><span>dis_train_loop</span><progress style='margin:2px 4px;description_width:initial;' max='3' value='3'></progress>100% 3/3 [00:00&lt;00:00, 11.66it/s]</div>"
            ],
            "text/plain": [
              "<tqdm._fake_ipywidgets.HBox object>"
            ]
          },
          "metadata": {
            "tags": []
          }
        },
        {
          "output_type": "stream",
          "text": [
            "d_summary: loss=1.180, accuracy=0.875\n"
          ],
          "name": "stdout"
        },
        {
          "output_type": "display_data",
          "data": {
            "text/html": [
              "<div style=\"display:flex;flex-direction:row;\"><span>dis_train_loop</span><progress style='margin:2px 4px;description_width:initial;' max='3' value='3'></progress>100% 3/3 [00:00&lt;00:00, 10.36it/s]</div>"
            ],
            "text/plain": [
              "<tqdm._fake_ipywidgets.HBox object>"
            ]
          },
          "metadata": {
            "tags": []
          }
        },
        {
          "output_type": "stream",
          "text": [
            "d_summary: loss=2.666, accuracy=0.734\n"
          ],
          "name": "stdout"
        },
        {
          "output_type": "display_data",
          "data": {
            "text/html": [
              "<div style=\"display:flex;flex-direction:row;\"><span>dis_train_loop</span><progress style='margin:2px 4px;description_width:initial;' max='3' value='3'></progress>100% 3/3 [00:00&lt;00:00, 10.21it/s]</div>"
            ],
            "text/plain": [
              "<tqdm._fake_ipywidgets.HBox object>"
            ]
          },
          "metadata": {
            "tags": []
          }
        },
        {
          "output_type": "stream",
          "text": [
            "d_summary: loss=1.303, accuracy=0.797\n",
            "                                    text fake\n",
            "382  piece cw genius parkinsonia norris     1\n",
            "383  id slow thin presentation harcourt     1\n",
            "g_summary: loss=14.108, reward=0.377\n"
          ],
          "name": "stdout"
        },
        {
          "output_type": "display_data",
          "data": {
            "text/html": [
              "<div style=\"display:flex;flex-direction:row;\"><span>gen_train_loop</span><progress style='margin:2px 4px;description_width:initial;' max='5' value='5'></progress>100% 5/5 [00:33&lt;00:00,  6.65s/it]</div>"
            ],
            "text/plain": [
              "<tqdm._fake_ipywidgets.HBox object>"
            ]
          },
          "metadata": {
            "tags": []
          }
        },
        {
          "output_type": "display_data",
          "data": {
            "text/html": [
              "<div style=\"display:flex;flex-direction:row;\"><span>dis_train_loop</span><progress style='margin:2px 4px;description_width:initial;' max='3' value='3'></progress>100% 3/3 [00:00&lt;00:00, 10.26it/s]</div>"
            ],
            "text/plain": [
              "<tqdm._fake_ipywidgets.HBox object>"
            ]
          },
          "metadata": {
            "tags": []
          }
        },
        {
          "output_type": "stream",
          "text": [
            "d_summary: loss=1.398, accuracy=0.828\n"
          ],
          "name": "stdout"
        },
        {
          "output_type": "display_data",
          "data": {
            "text/html": [
              "<div style=\"display:flex;flex-direction:row;\"><span>dis_train_loop</span><progress style='margin:2px 4px;description_width:initial;' max='3' value='3'></progress>100% 3/3 [00:00&lt;00:00, 10.06it/s]</div>"
            ],
            "text/plain": [
              "<tqdm._fake_ipywidgets.HBox object>"
            ]
          },
          "metadata": {
            "tags": []
          }
        },
        {
          "output_type": "stream",
          "text": [
            "d_summary: loss=1.106, accuracy=0.859\n"
          ],
          "name": "stdout"
        },
        {
          "output_type": "display_data",
          "data": {
            "text/html": [
              "<div style=\"display:flex;flex-direction:row;\"><span>dis_train_loop</span><progress style='margin:2px 4px;description_width:initial;' max='3' value='3'></progress>100% 3/3 [00:00&lt;00:00, 10.41it/s]</div>"
            ],
            "text/plain": [
              "<tqdm._fake_ipywidgets.HBox object>"
            ]
          },
          "metadata": {
            "tags": []
          }
        },
        {
          "output_type": "stream",
          "text": [
            "d_summary: loss=1.030, accuracy=0.891\n"
          ],
          "name": "stdout"
        },
        {
          "output_type": "display_data",
          "data": {
            "text/html": [
              "<div style=\"display:flex;flex-direction:row;\"><span>dis_train_loop</span><progress style='margin:2px 4px;description_width:initial;' max='3' value='3'></progress>100% 3/3 [00:00&lt;00:00, 10.01it/s]</div>"
            ],
            "text/plain": [
              "<tqdm._fake_ipywidgets.HBox object>"
            ]
          },
          "metadata": {
            "tags": []
          }
        },
        {
          "output_type": "stream",
          "text": [
            "d_summary: loss=1.481, accuracy=0.781\n"
          ],
          "name": "stdout"
        },
        {
          "output_type": "display_data",
          "data": {
            "text/html": [
              "<div style=\"display:flex;flex-direction:row;\"><span>dis_train_loop</span><progress style='margin:2px 4px;description_width:initial;' max='3' value='3'></progress>100% 3/3 [00:00&lt;00:00, 10.17it/s]</div>"
            ],
            "text/plain": [
              "<tqdm._fake_ipywidgets.HBox object>"
            ]
          },
          "metadata": {
            "tags": []
          }
        },
        {
          "output_type": "stream",
          "text": [
            "d_summary: loss=0.985, accuracy=0.891\n",
            "                                                 text fake\n",
            "766              lapkin farrell stricker feels since     1\n",
            "767  provider writing properties locusts differences     1\n",
            "g_summary: loss=13.787, reward=0.695\n"
          ],
          "name": "stdout"
        },
        {
          "output_type": "display_data",
          "data": {
            "text/html": [
              "<div style=\"display:flex;flex-direction:row;\"><span>gen_train_loop</span><progress style='margin:2px 4px;description_width:initial;' max='5' value='5'></progress>100% 5/5 [00:33&lt;00:00,  6.67s/it]</div>"
            ],
            "text/plain": [
              "<tqdm._fake_ipywidgets.HBox object>"
            ]
          },
          "metadata": {
            "tags": []
          }
        },
        {
          "output_type": "display_data",
          "data": {
            "text/html": [
              "<div style=\"display:flex;flex-direction:row;\"><span>dis_train_loop</span><progress style='margin:2px 4px;description_width:initial;' max='3' value='3'></progress>100% 3/3 [00:00&lt;00:00,  9.98it/s]</div>"
            ],
            "text/plain": [
              "<tqdm._fake_ipywidgets.HBox object>"
            ]
          },
          "metadata": {
            "tags": []
          }
        },
        {
          "output_type": "stream",
          "text": [
            "d_summary: loss=1.411, accuracy=0.875\n"
          ],
          "name": "stdout"
        },
        {
          "output_type": "display_data",
          "data": {
            "text/html": [
              "<div style=\"display:flex;flex-direction:row;\"><span>dis_train_loop</span><progress style='margin:2px 4px;description_width:initial;' max='3' value='3'></progress>100% 3/3 [00:00&lt;00:00,  9.78it/s]</div>"
            ],
            "text/plain": [
              "<tqdm._fake_ipywidgets.HBox object>"
            ]
          },
          "metadata": {
            "tags": []
          }
        },
        {
          "output_type": "stream",
          "text": [
            "d_summary: loss=0.645, accuracy=0.922\n"
          ],
          "name": "stdout"
        },
        {
          "output_type": "display_data",
          "data": {
            "text/html": [
              "<div style=\"display:flex;flex-direction:row;\"><span>dis_train_loop</span><progress style='margin:2px 4px;description_width:initial;' max='3' value='3'></progress>100% 3/3 [00:00&lt;00:00, 10.22it/s]</div>"
            ],
            "text/plain": [
              "<tqdm._fake_ipywidgets.HBox object>"
            ]
          },
          "metadata": {
            "tags": []
          }
        },
        {
          "output_type": "stream",
          "text": [
            "d_summary: loss=0.924, accuracy=0.891\n"
          ],
          "name": "stdout"
        },
        {
          "output_type": "display_data",
          "data": {
            "text/html": [
              "<div style=\"display:flex;flex-direction:row;\"><span>dis_train_loop</span><progress style='margin:2px 4px;description_width:initial;' max='3' value='3'></progress>100% 3/3 [00:00&lt;00:00,  9.98it/s]</div>"
            ],
            "text/plain": [
              "<tqdm._fake_ipywidgets.HBox object>"
            ]
          },
          "metadata": {
            "tags": []
          }
        },
        {
          "output_type": "stream",
          "text": [
            "d_summary: loss=0.860, accuracy=0.891\n"
          ],
          "name": "stdout"
        },
        {
          "output_type": "display_data",
          "data": {
            "text/html": [
              "<div style=\"display:flex;flex-direction:row;\"><span>dis_train_loop</span><progress style='margin:2px 4px;description_width:initial;' max='3' value='3'></progress>100% 3/3 [00:00&lt;00:00, 10.36it/s]</div>"
            ],
            "text/plain": [
              "<tqdm._fake_ipywidgets.HBox object>"
            ]
          },
          "metadata": {
            "tags": []
          }
        },
        {
          "output_type": "stream",
          "text": [
            "d_summary: loss=1.003, accuracy=0.859\n",
            "                                        text fake\n",
            "1150    skull mediation adfa guineas flower     1\n",
            "1151  leg racket quit southport impractical     1\n",
            "g_summary: loss=13.798, reward=0.542\n"
          ],
          "name": "stdout"
        },
        {
          "output_type": "display_data",
          "data": {
            "text/html": [
              "<div style=\"display:flex;flex-direction:row;\"><span>gen_train_loop</span><progress style='margin:2px 4px;description_width:initial;' max='5' value='5'></progress>100% 5/5 [00:33&lt;00:00,  6.68s/it]</div>"
            ],
            "text/plain": [
              "<tqdm._fake_ipywidgets.HBox object>"
            ]
          },
          "metadata": {
            "tags": []
          }
        },
        {
          "output_type": "display_data",
          "data": {
            "text/html": [
              "<div style=\"display:flex;flex-direction:row;\"><span>dis_train_loop</span><progress style='margin:2px 4px;description_width:initial;' max='3' value='3'></progress>100% 3/3 [00:00&lt;00:00,  9.57it/s]</div>"
            ],
            "text/plain": [
              "<tqdm._fake_ipywidgets.HBox object>"
            ]
          },
          "metadata": {
            "tags": []
          }
        },
        {
          "output_type": "stream",
          "text": [
            "d_summary: loss=0.352, accuracy=0.953\n"
          ],
          "name": "stdout"
        },
        {
          "output_type": "display_data",
          "data": {
            "text/html": [
              "<div style=\"display:flex;flex-direction:row;\"><span>dis_train_loop</span><progress style='margin:2px 4px;description_width:initial;' max='3' value='3'></progress>100% 3/3 [00:00&lt;00:00, 11.63it/s]</div>"
            ],
            "text/plain": [
              "<tqdm._fake_ipywidgets.HBox object>"
            ]
          },
          "metadata": {
            "tags": []
          }
        },
        {
          "output_type": "stream",
          "text": [
            "d_summary: loss=0.426, accuracy=0.953\n"
          ],
          "name": "stdout"
        },
        {
          "output_type": "display_data",
          "data": {
            "text/html": [
              "<div style=\"display:flex;flex-direction:row;\"><span>dis_train_loop</span><progress style='margin:2px 4px;description_width:initial;' max='3' value='3'></progress>100% 3/3 [00:00&lt;00:00, 10.19it/s]</div>"
            ],
            "text/plain": [
              "<tqdm._fake_ipywidgets.HBox object>"
            ]
          },
          "metadata": {
            "tags": []
          }
        },
        {
          "output_type": "stream",
          "text": [
            "d_summary: loss=0.440, accuracy=0.922\n"
          ],
          "name": "stdout"
        },
        {
          "output_type": "display_data",
          "data": {
            "text/html": [
              "<div style=\"display:flex;flex-direction:row;\"><span>dis_train_loop</span><progress style='margin:2px 4px;description_width:initial;' max='3' value='3'></progress>100% 3/3 [00:00&lt;00:00, 10.02it/s]</div>"
            ],
            "text/plain": [
              "<tqdm._fake_ipywidgets.HBox object>"
            ]
          },
          "metadata": {
            "tags": []
          }
        },
        {
          "output_type": "stream",
          "text": [
            "d_summary: loss=0.423, accuracy=0.938\n"
          ],
          "name": "stdout"
        },
        {
          "output_type": "display_data",
          "data": {
            "text/html": [
              "<div style=\"display:flex;flex-direction:row;\"><span>dis_train_loop</span><progress style='margin:2px 4px;description_width:initial;' max='3' value='3'></progress>100% 3/3 [00:00&lt;00:00, 10.09it/s]</div>"
            ],
            "text/plain": [
              "<tqdm._fake_ipywidgets.HBox object>"
            ]
          },
          "metadata": {
            "tags": []
          }
        },
        {
          "output_type": "stream",
          "text": [
            "d_summary: loss=0.412, accuracy=0.938\n",
            "                                          text fake\n",
            "1534             lebanon pulp guineas doll fc     1\n",
            "1535  november steketee trample pluto unhappy     1\n",
            "g_summary: loss=13.548, reward=0.473\n"
          ],
          "name": "stdout"
        },
        {
          "output_type": "display_data",
          "data": {
            "text/html": [
              "<div style=\"display:flex;flex-direction:row;\"><span>gen_train_loop</span><progress style='margin:2px 4px;description_width:initial;' max='5' value='5'></progress>100% 5/5 [00:33&lt;00:00,  6.76s/it]</div>"
            ],
            "text/plain": [
              "<tqdm._fake_ipywidgets.HBox object>"
            ]
          },
          "metadata": {
            "tags": []
          }
        },
        {
          "output_type": "display_data",
          "data": {
            "text/html": [
              "<div style=\"display:flex;flex-direction:row;\"><span>dis_train_loop</span><progress style='margin:2px 4px;description_width:initial;' max='3' value='3'></progress>100% 3/3 [00:00&lt;00:00, 10.07it/s]</div>"
            ],
            "text/plain": [
              "<tqdm._fake_ipywidgets.HBox object>"
            ]
          },
          "metadata": {
            "tags": []
          }
        },
        {
          "output_type": "stream",
          "text": [
            "d_summary: loss=0.321, accuracy=0.969\n"
          ],
          "name": "stdout"
        },
        {
          "output_type": "display_data",
          "data": {
            "text/html": [
              "<div style=\"display:flex;flex-direction:row;\"><span>dis_train_loop</span><progress style='margin:2px 4px;description_width:initial;' max='3' value='3'></progress>100% 3/3 [00:00&lt;00:00, 10.31it/s]</div>"
            ],
            "text/plain": [
              "<tqdm._fake_ipywidgets.HBox object>"
            ]
          },
          "metadata": {
            "tags": []
          }
        },
        {
          "output_type": "stream",
          "text": [
            "d_summary: loss=0.206, accuracy=1.000\n"
          ],
          "name": "stdout"
        },
        {
          "output_type": "display_data",
          "data": {
            "text/html": [
              "<div style=\"display:flex;flex-direction:row;\"><span>dis_train_loop</span><progress style='margin:2px 4px;description_width:initial;' max='3' value='3'></progress>100% 3/3 [00:00&lt;00:00, 10.07it/s]</div>"
            ],
            "text/plain": [
              "<tqdm._fake_ipywidgets.HBox object>"
            ]
          },
          "metadata": {
            "tags": []
          }
        },
        {
          "output_type": "stream",
          "text": [
            "d_summary: loss=0.586, accuracy=0.891\n"
          ],
          "name": "stdout"
        },
        {
          "output_type": "display_data",
          "data": {
            "text/html": [
              "<div style=\"display:flex;flex-direction:row;\"><span>dis_train_loop</span><progress style='margin:2px 4px;description_width:initial;' max='3' value='3'></progress>100% 3/3 [00:00&lt;00:00,  9.43it/s]</div>"
            ],
            "text/plain": [
              "<tqdm._fake_ipywidgets.HBox object>"
            ]
          },
          "metadata": {
            "tags": []
          }
        },
        {
          "output_type": "stream",
          "text": [
            "d_summary: loss=0.467, accuracy=0.891\n"
          ],
          "name": "stdout"
        },
        {
          "output_type": "display_data",
          "data": {
            "text/html": [
              "<div style=\"display:flex;flex-direction:row;\"><span>dis_train_loop</span><progress style='margin:2px 4px;description_width:initial;' max='3' value='3'></progress>100% 3/3 [00:00&lt;00:00, 11.26it/s]</div>"
            ],
            "text/plain": [
              "<tqdm._fake_ipywidgets.HBox object>"
            ]
          },
          "metadata": {
            "tags": []
          }
        },
        {
          "output_type": "stream",
          "text": [
            "d_summary: loss=0.314, accuracy=0.938\n",
            "                                               text fake\n",
            "1918                bitter trample afls visitor id     1\n",
            "1919  atmosphere misleading emily emily pineapples     1\n",
            "g_summary: loss=13.598, reward=0.341\n"
          ],
          "name": "stdout"
        },
        {
          "output_type": "display_data",
          "data": {
            "text/html": [
              "<div style=\"display:flex;flex-direction:row;\"><span>gen_train_loop</span><progress style='margin:2px 4px;description_width:initial;' max='5' value='5'></progress>100% 5/5 [00:33&lt;00:00,  6.72s/it]</div>"
            ],
            "text/plain": [
              "<tqdm._fake_ipywidgets.HBox object>"
            ]
          },
          "metadata": {
            "tags": []
          }
        },
        {
          "output_type": "display_data",
          "data": {
            "text/html": [
              "<div style=\"display:flex;flex-direction:row;\"><span>dis_train_loop</span><progress style='margin:2px 4px;description_width:initial;' max='3' value='3'></progress>100% 3/3 [00:00&lt;00:00, 10.39it/s]</div>"
            ],
            "text/plain": [
              "<tqdm._fake_ipywidgets.HBox object>"
            ]
          },
          "metadata": {
            "tags": []
          }
        },
        {
          "output_type": "stream",
          "text": [
            "d_summary: loss=0.264, accuracy=0.938\n"
          ],
          "name": "stdout"
        },
        {
          "output_type": "display_data",
          "data": {
            "text/html": [
              "<div style=\"display:flex;flex-direction:row;\"><span>dis_train_loop</span><progress style='margin:2px 4px;description_width:initial;' max='3' value='3'></progress>100% 3/3 [00:00&lt;00:00,  9.25it/s]</div>"
            ],
            "text/plain": [
              "<tqdm._fake_ipywidgets.HBox object>"
            ]
          },
          "metadata": {
            "tags": []
          }
        },
        {
          "output_type": "stream",
          "text": [
            "d_summary: loss=0.336, accuracy=0.953\n"
          ],
          "name": "stdout"
        },
        {
          "output_type": "display_data",
          "data": {
            "text/html": [
              "<div style=\"display:flex;flex-direction:row;\"><span>dis_train_loop</span><progress style='margin:2px 4px;description_width:initial;' max='3' value='3'></progress>100% 3/3 [00:00&lt;00:00, 10.17it/s]</div>"
            ],
            "text/plain": [
              "<tqdm._fake_ipywidgets.HBox object>"
            ]
          },
          "metadata": {
            "tags": []
          }
        },
        {
          "output_type": "stream",
          "text": [
            "d_summary: loss=0.239, accuracy=0.969\n"
          ],
          "name": "stdout"
        },
        {
          "output_type": "display_data",
          "data": {
            "text/html": [
              "<div style=\"display:flex;flex-direction:row;\"><span>dis_train_loop</span><progress style='margin:2px 4px;description_width:initial;' max='3' value='3'></progress>100% 3/3 [00:00&lt;00:00,  9.94it/s]</div>"
            ],
            "text/plain": [
              "<tqdm._fake_ipywidgets.HBox object>"
            ]
          },
          "metadata": {
            "tags": []
          }
        },
        {
          "output_type": "stream",
          "text": [
            "d_summary: loss=0.384, accuracy=0.938\n"
          ],
          "name": "stdout"
        },
        {
          "output_type": "display_data",
          "data": {
            "text/html": [
              "<div style=\"display:flex;flex-direction:row;\"><span>dis_train_loop</span><progress style='margin:2px 4px;description_width:initial;' max='3' value='3'></progress>100% 3/3 [00:00&lt;00:00,  9.82it/s]</div>"
            ],
            "text/plain": [
              "<tqdm._fake_ipywidgets.HBox object>"
            ]
          },
          "metadata": {
            "tags": []
          }
        },
        {
          "output_type": "stream",
          "text": [
            "d_summary: loss=0.375, accuracy=0.953\n",
            "                                                 text fake\n",
            "2302       barely williamsburg mushroom soap wearing     1\n",
            "2303  recruits ridicules remanded submission guineas     1\n",
            "g_summary: loss=13.731, reward=0.464\n"
          ],
          "name": "stdout"
        },
        {
          "output_type": "display_data",
          "data": {
            "text/html": [
              "<div style=\"display:flex;flex-direction:row;\"><span>gen_train_loop</span><progress style='margin:2px 4px;description_width:initial;' max='5' value='5'></progress>100% 5/5 [00:33&lt;00:00,  6.64s/it]</div>"
            ],
            "text/plain": [
              "<tqdm._fake_ipywidgets.HBox object>"
            ]
          },
          "metadata": {
            "tags": []
          }
        },
        {
          "output_type": "display_data",
          "data": {
            "text/html": [
              "<div style=\"display:flex;flex-direction:row;\"><span>dis_train_loop</span><progress style='margin:2px 4px;description_width:initial;' max='3' value='3'></progress>100% 3/3 [00:00&lt;00:00, 10.25it/s]</div>"
            ],
            "text/plain": [
              "<tqdm._fake_ipywidgets.HBox object>"
            ]
          },
          "metadata": {
            "tags": []
          }
        },
        {
          "output_type": "stream",
          "text": [
            "d_summary: loss=0.477, accuracy=0.922\n"
          ],
          "name": "stdout"
        },
        {
          "output_type": "display_data",
          "data": {
            "text/html": [
              "<div style=\"display:flex;flex-direction:row;\"><span>dis_train_loop</span><progress style='margin:2px 4px;description_width:initial;' max='3' value='3'></progress>100% 3/3 [00:00&lt;00:00, 10.52it/s]</div>"
            ],
            "text/plain": [
              "<tqdm._fake_ipywidgets.HBox object>"
            ]
          },
          "metadata": {
            "tags": []
          }
        },
        {
          "output_type": "stream",
          "text": [
            "d_summary: loss=0.292, accuracy=0.938\n"
          ],
          "name": "stdout"
        },
        {
          "output_type": "display_data",
          "data": {
            "text/html": [
              "<div style=\"display:flex;flex-direction:row;\"><span>dis_train_loop</span><progress style='margin:2px 4px;description_width:initial;' max='3' value='3'></progress>100% 3/3 [00:00&lt;00:00, 10.98it/s]</div>"
            ],
            "text/plain": [
              "<tqdm._fake_ipywidgets.HBox object>"
            ]
          },
          "metadata": {
            "tags": []
          }
        },
        {
          "output_type": "stream",
          "text": [
            "d_summary: loss=0.186, accuracy=0.953\n"
          ],
          "name": "stdout"
        },
        {
          "output_type": "display_data",
          "data": {
            "text/html": [
              "<div style=\"display:flex;flex-direction:row;\"><span>dis_train_loop</span><progress style='margin:2px 4px;description_width:initial;' max='3' value='3'></progress>100% 3/3 [00:00&lt;00:00, 10.22it/s]</div>"
            ],
            "text/plain": [
              "<tqdm._fake_ipywidgets.HBox object>"
            ]
          },
          "metadata": {
            "tags": []
          }
        },
        {
          "output_type": "stream",
          "text": [
            "d_summary: loss=0.383, accuracy=0.875\n"
          ],
          "name": "stdout"
        },
        {
          "output_type": "display_data",
          "data": {
            "text/html": [
              "<div style=\"display:flex;flex-direction:row;\"><span>dis_train_loop</span><progress style='margin:2px 4px;description_width:initial;' max='3' value='3'></progress>100% 3/3 [00:00&lt;00:00, 10.34it/s]</div>"
            ],
            "text/plain": [
              "<tqdm._fake_ipywidgets.HBox object>"
            ]
          },
          "metadata": {
            "tags": []
          }
        },
        {
          "output_type": "stream",
          "text": [
            "d_summary: loss=0.325, accuracy=0.938\n",
            "                                                   text fake\n",
            "2686  winehouse editors wonthaggi commemorations fed...    1\n",
            "2687              severed emily caused bath nimmitabel     1\n",
            "g_summary: loss=13.316, reward=0.394\n"
          ],
          "name": "stdout"
        },
        {
          "output_type": "display_data",
          "data": {
            "text/html": [
              "<div style=\"display:flex;flex-direction:row;\"><span>gen_train_loop</span><progress style='margin:2px 4px;description_width:initial;' max='5' value='5'></progress>100% 5/5 [00:33&lt;00:00,  6.71s/it]</div>"
            ],
            "text/plain": [
              "<tqdm._fake_ipywidgets.HBox object>"
            ]
          },
          "metadata": {
            "tags": []
          }
        },
        {
          "output_type": "display_data",
          "data": {
            "text/html": [
              "<div style=\"display:flex;flex-direction:row;\"><span>dis_train_loop</span><progress style='margin:2px 4px;description_width:initial;' max='3' value='3'></progress>100% 3/3 [00:00&lt;00:00, 10.27it/s]</div>"
            ],
            "text/plain": [
              "<tqdm._fake_ipywidgets.HBox object>"
            ]
          },
          "metadata": {
            "tags": []
          }
        },
        {
          "output_type": "stream",
          "text": [
            "d_summary: loss=0.130, accuracy=0.984\n"
          ],
          "name": "stdout"
        },
        {
          "output_type": "display_data",
          "data": {
            "text/html": [
              "<div style=\"display:flex;flex-direction:row;\"><span>dis_train_loop</span><progress style='margin:2px 4px;description_width:initial;' max='3' value='3'></progress>100% 3/3 [00:00&lt;00:00, 10.43it/s]</div>"
            ],
            "text/plain": [
              "<tqdm._fake_ipywidgets.HBox object>"
            ]
          },
          "metadata": {
            "tags": []
          }
        },
        {
          "output_type": "stream",
          "text": [
            "d_summary: loss=0.226, accuracy=0.969\n"
          ],
          "name": "stdout"
        },
        {
          "output_type": "display_data",
          "data": {
            "text/html": [
              "<div style=\"display:flex;flex-direction:row;\"><span>dis_train_loop</span><progress style='margin:2px 4px;description_width:initial;' max='3' value='3'></progress>100% 3/3 [00:00&lt;00:00,  9.89it/s]</div>"
            ],
            "text/plain": [
              "<tqdm._fake_ipywidgets.HBox object>"
            ]
          },
          "metadata": {
            "tags": []
          }
        },
        {
          "output_type": "stream",
          "text": [
            "d_summary: loss=0.172, accuracy=0.984\n"
          ],
          "name": "stdout"
        },
        {
          "output_type": "display_data",
          "data": {
            "text/html": [
              "<div style=\"display:flex;flex-direction:row;\"><span>dis_train_loop</span><progress style='margin:2px 4px;description_width:initial;' max='3' value='3'></progress>100% 3/3 [00:00&lt;00:00, 10.43it/s]</div>"
            ],
            "text/plain": [
              "<tqdm._fake_ipywidgets.HBox object>"
            ]
          },
          "metadata": {
            "tags": []
          }
        },
        {
          "output_type": "stream",
          "text": [
            "d_summary: loss=0.113, accuracy=1.000\n"
          ],
          "name": "stdout"
        },
        {
          "output_type": "display_data",
          "data": {
            "text/html": [
              "<div style=\"display:flex;flex-direction:row;\"><span>dis_train_loop</span><progress style='margin:2px 4px;description_width:initial;' max='3' value='3'></progress>100% 3/3 [00:00&lt;00:00,  9.98it/s]</div>"
            ],
            "text/plain": [
              "<tqdm._fake_ipywidgets.HBox object>"
            ]
          },
          "metadata": {
            "tags": []
          }
        },
        {
          "output_type": "stream",
          "text": [
            "d_summary: loss=0.119, accuracy=0.984\n",
            "                                                text fake\n",
            "3070  sharemarkets alberici buyers undermanned 55pc     1\n",
            "3071       animation ramping disrupted lives poster     1\n",
            "g_summary: loss=13.427, reward=0.221\n"
          ],
          "name": "stdout"
        },
        {
          "output_type": "display_data",
          "data": {
            "text/html": [
              "<div style=\"display:flex;flex-direction:row;\"><span>gen_train_loop</span><progress style='margin:2px 4px;description_width:initial;' max='5' value='5'></progress>100% 5/5 [00:33&lt;00:00,  6.66s/it]</div>"
            ],
            "text/plain": [
              "<tqdm._fake_ipywidgets.HBox object>"
            ]
          },
          "metadata": {
            "tags": []
          }
        },
        {
          "output_type": "display_data",
          "data": {
            "text/html": [
              "<div style=\"display:flex;flex-direction:row;\"><span>dis_train_loop</span><progress style='margin:2px 4px;description_width:initial;' max='3' value='3'></progress>100% 3/3 [00:00&lt;00:00, 10.43it/s]</div>"
            ],
            "text/plain": [
              "<tqdm._fake_ipywidgets.HBox object>"
            ]
          },
          "metadata": {
            "tags": []
          }
        },
        {
          "output_type": "stream",
          "text": [
            "d_summary: loss=0.348, accuracy=0.922\n"
          ],
          "name": "stdout"
        },
        {
          "output_type": "display_data",
          "data": {
            "text/html": [
              "<div style=\"display:flex;flex-direction:row;\"><span>dis_train_loop</span><progress style='margin:2px 4px;description_width:initial;' max='3' value='3'></progress>100% 3/3 [00:00&lt;00:00, 10.60it/s]</div>"
            ],
            "text/plain": [
              "<tqdm._fake_ipywidgets.HBox object>"
            ]
          },
          "metadata": {
            "tags": []
          }
        },
        {
          "output_type": "stream",
          "text": [
            "d_summary: loss=0.119, accuracy=0.984\n"
          ],
          "name": "stdout"
        },
        {
          "output_type": "display_data",
          "data": {
            "text/html": [
              "<div style=\"display:flex;flex-direction:row;\"><span>dis_train_loop</span><progress style='margin:2px 4px;description_width:initial;' max='3' value='3'></progress>100% 3/3 [00:00&lt;00:00,  9.91it/s]</div>"
            ],
            "text/plain": [
              "<tqdm._fake_ipywidgets.HBox object>"
            ]
          },
          "metadata": {
            "tags": []
          }
        },
        {
          "output_type": "stream",
          "text": [
            "d_summary: loss=0.118, accuracy=0.984\n"
          ],
          "name": "stdout"
        },
        {
          "output_type": "display_data",
          "data": {
            "text/html": [
              "<div style=\"display:flex;flex-direction:row;\"><span>dis_train_loop</span><progress style='margin:2px 4px;description_width:initial;' max='3' value='3'></progress>100% 3/3 [00:00&lt;00:00, 10.30it/s]</div>"
            ],
            "text/plain": [
              "<tqdm._fake_ipywidgets.HBox object>"
            ]
          },
          "metadata": {
            "tags": []
          }
        },
        {
          "output_type": "stream",
          "text": [
            "d_summary: loss=0.311, accuracy=0.906\n"
          ],
          "name": "stdout"
        },
        {
          "output_type": "display_data",
          "data": {
            "text/html": [
              "<div style=\"display:flex;flex-direction:row;\"><span>dis_train_loop</span><progress style='margin:2px 4px;description_width:initial;' max='3' value='3'></progress>100% 3/3 [00:00&lt;00:00, 10.45it/s]</div>"
            ],
            "text/plain": [
              "<tqdm._fake_ipywidgets.HBox object>"
            ]
          },
          "metadata": {
            "tags": []
          }
        },
        {
          "output_type": "stream",
          "text": [
            "d_summary: loss=0.163, accuracy=0.969\n",
            "                                        text fake\n",
            "3454   nq racism kickstart several overseas     1\n",
            "3455  carry sentinel raises clinics surplus     1\n",
            "g_summary: loss=13.030, reward=0.274\n"
          ],
          "name": "stdout"
        },
        {
          "output_type": "display_data",
          "data": {
            "text/html": [
              "<div style=\"display:flex;flex-direction:row;\"><span>gen_train_loop</span><progress style='margin:2px 4px;description_width:initial;' max='5' value='5'></progress>100% 5/5 [00:33&lt;00:00,  6.71s/it]</div>"
            ],
            "text/plain": [
              "<tqdm._fake_ipywidgets.HBox object>"
            ]
          },
          "metadata": {
            "tags": []
          }
        },
        {
          "output_type": "display_data",
          "data": {
            "text/html": [
              "<div style=\"display:flex;flex-direction:row;\"><span>dis_train_loop</span><progress style='margin:2px 4px;description_width:initial;' max='3' value='3'></progress>100% 3/3 [00:00&lt;00:00, 10.03it/s]</div>"
            ],
            "text/plain": [
              "<tqdm._fake_ipywidgets.HBox object>"
            ]
          },
          "metadata": {
            "tags": []
          }
        },
        {
          "output_type": "stream",
          "text": [
            "d_summary: loss=0.227, accuracy=0.953\n"
          ],
          "name": "stdout"
        },
        {
          "output_type": "display_data",
          "data": {
            "text/html": [
              "<div style=\"display:flex;flex-direction:row;\"><span>dis_train_loop</span><progress style='margin:2px 4px;description_width:initial;' max='3' value='3'></progress>100% 3/3 [00:00&lt;00:00, 10.05it/s]</div>"
            ],
            "text/plain": [
              "<tqdm._fake_ipywidgets.HBox object>"
            ]
          },
          "metadata": {
            "tags": []
          }
        },
        {
          "output_type": "stream",
          "text": [
            "d_summary: loss=0.106, accuracy=0.984\n"
          ],
          "name": "stdout"
        },
        {
          "output_type": "display_data",
          "data": {
            "text/html": [
              "<div style=\"display:flex;flex-direction:row;\"><span>dis_train_loop</span><progress style='margin:2px 4px;description_width:initial;' max='3' value='3'></progress>100% 3/3 [00:00&lt;00:00,  9.97it/s]</div>"
            ],
            "text/plain": [
              "<tqdm._fake_ipywidgets.HBox object>"
            ]
          },
          "metadata": {
            "tags": []
          }
        },
        {
          "output_type": "stream",
          "text": [
            "d_summary: loss=0.147, accuracy=0.953\n"
          ],
          "name": "stdout"
        },
        {
          "output_type": "display_data",
          "data": {
            "text/html": [
              "<div style=\"display:flex;flex-direction:row;\"><span>dis_train_loop</span><progress style='margin:2px 4px;description_width:initial;' max='3' value='3'></progress>100% 3/3 [00:00&lt;00:00, 10.09it/s]</div>"
            ],
            "text/plain": [
              "<tqdm._fake_ipywidgets.HBox object>"
            ]
          },
          "metadata": {
            "tags": []
          }
        },
        {
          "output_type": "stream",
          "text": [
            "d_summary: loss=0.162, accuracy=0.969\n"
          ],
          "name": "stdout"
        },
        {
          "output_type": "display_data",
          "data": {
            "text/html": [
              "<div style=\"display:flex;flex-direction:row;\"><span>dis_train_loop</span><progress style='margin:2px 4px;description_width:initial;' max='3' value='3'></progress>100% 3/3 [00:00&lt;00:00, 10.15it/s]</div>"
            ],
            "text/plain": [
              "<tqdm._fake_ipywidgets.HBox object>"
            ]
          },
          "metadata": {
            "tags": []
          }
        },
        {
          "output_type": "stream",
          "text": [
            "d_summary: loss=0.162, accuracy=0.953\n",
            "                                       text fake\n",
            "3838    round palmview booker newell slack     1\n",
            "3839  bangalore pineapples adm 0904 vettel     1\n",
            "g_summary: loss=13.494, reward=0.179\n"
          ],
          "name": "stdout"
        },
        {
          "output_type": "display_data",
          "data": {
            "text/html": [
              "<div style=\"display:flex;flex-direction:row;\"><span>gen_train_loop</span><progress style='margin:2px 4px;description_width:initial;' max='5' value='5'></progress>100% 5/5 [00:33&lt;00:00,  6.67s/it]</div>"
            ],
            "text/plain": [
              "<tqdm._fake_ipywidgets.HBox object>"
            ]
          },
          "metadata": {
            "tags": []
          }
        },
        {
          "output_type": "display_data",
          "data": {
            "text/html": [
              "<div style=\"display:flex;flex-direction:row;\"><span>dis_train_loop</span><progress style='margin:2px 4px;description_width:initial;' max='3' value='3'></progress>100% 3/3 [00:00&lt;00:00,  9.74it/s]</div>"
            ],
            "text/plain": [
              "<tqdm._fake_ipywidgets.HBox object>"
            ]
          },
          "metadata": {
            "tags": []
          }
        },
        {
          "output_type": "stream",
          "text": [
            "d_summary: loss=0.075, accuracy=1.000\n"
          ],
          "name": "stdout"
        },
        {
          "output_type": "display_data",
          "data": {
            "text/html": [
              "<div style=\"display:flex;flex-direction:row;\"><span>dis_train_loop</span><progress style='margin:2px 4px;description_width:initial;' max='3' value='3'></progress>100% 3/3 [00:00&lt;00:00, 10.24it/s]</div>"
            ],
            "text/plain": [
              "<tqdm._fake_ipywidgets.HBox object>"
            ]
          },
          "metadata": {
            "tags": []
          }
        },
        {
          "output_type": "stream",
          "text": [
            "d_summary: loss=0.111, accuracy=0.984\n"
          ],
          "name": "stdout"
        },
        {
          "output_type": "display_data",
          "data": {
            "text/html": [
              "<div style=\"display:flex;flex-direction:row;\"><span>dis_train_loop</span><progress style='margin:2px 4px;description_width:initial;' max='3' value='3'></progress>100% 3/3 [00:00&lt;00:00,  9.79it/s]</div>"
            ],
            "text/plain": [
              "<tqdm._fake_ipywidgets.HBox object>"
            ]
          },
          "metadata": {
            "tags": []
          }
        },
        {
          "output_type": "stream",
          "text": [
            "d_summary: loss=0.329, accuracy=0.922\n"
          ],
          "name": "stdout"
        },
        {
          "output_type": "display_data",
          "data": {
            "text/html": [
              "<div style=\"display:flex;flex-direction:row;\"><span>dis_train_loop</span><progress style='margin:2px 4px;description_width:initial;' max='3' value='3'></progress>100% 3/3 [00:00&lt;00:00,  9.83it/s]</div>"
            ],
            "text/plain": [
              "<tqdm._fake_ipywidgets.HBox object>"
            ]
          },
          "metadata": {
            "tags": []
          }
        },
        {
          "output_type": "stream",
          "text": [
            "d_summary: loss=0.117, accuracy=0.984\n"
          ],
          "name": "stdout"
        },
        {
          "output_type": "display_data",
          "data": {
            "text/html": [
              "<div style=\"display:flex;flex-direction:row;\"><span>dis_train_loop</span><progress style='margin:2px 4px;description_width:initial;' max='3' value='3'></progress>100% 3/3 [00:00&lt;00:00, 10.21it/s]</div>"
            ],
            "text/plain": [
              "<tqdm._fake_ipywidgets.HBox object>"
            ]
          },
          "metadata": {
            "tags": []
          }
        },
        {
          "output_type": "stream",
          "text": [
            "d_summary: loss=0.110, accuracy=0.984\n",
            "                                                   text fake\n",
            "4222             mend seven offence policing mediation     1\n",
            "4223  evacuation enjoying cooperation disabled charlie     1\n",
            "g_summary: loss=13.501, reward=0.338\n"
          ],
          "name": "stdout"
        },
        {
          "output_type": "display_data",
          "data": {
            "text/html": [
              "<div style=\"display:flex;flex-direction:row;\"><span>gen_train_loop</span><progress style='margin:2px 4px;description_width:initial;' max='5' value='5'></progress>100% 5/5 [00:33&lt;00:00,  6.66s/it]</div>"
            ],
            "text/plain": [
              "<tqdm._fake_ipywidgets.HBox object>"
            ]
          },
          "metadata": {
            "tags": []
          }
        },
        {
          "output_type": "display_data",
          "data": {
            "text/html": [
              "<div style=\"display:flex;flex-direction:row;\"><span>dis_train_loop</span><progress style='margin:2px 4px;description_width:initial;' max='3' value='3'></progress>100% 3/3 [00:00&lt;00:00, 10.91it/s]</div>"
            ],
            "text/plain": [
              "<tqdm._fake_ipywidgets.HBox object>"
            ]
          },
          "metadata": {
            "tags": []
          }
        },
        {
          "output_type": "stream",
          "text": [
            "d_summary: loss=0.238, accuracy=0.938\n"
          ],
          "name": "stdout"
        },
        {
          "output_type": "display_data",
          "data": {
            "text/html": [
              "<div style=\"display:flex;flex-direction:row;\"><span>dis_train_loop</span><progress style='margin:2px 4px;description_width:initial;' max='3' value='3'></progress>100% 3/3 [00:00&lt;00:00, 10.02it/s]</div>"
            ],
            "text/plain": [
              "<tqdm._fake_ipywidgets.HBox object>"
            ]
          },
          "metadata": {
            "tags": []
          }
        },
        {
          "output_type": "stream",
          "text": [
            "d_summary: loss=0.139, accuracy=0.969\n"
          ],
          "name": "stdout"
        },
        {
          "output_type": "display_data",
          "data": {
            "text/html": [
              "<div style=\"display:flex;flex-direction:row;\"><span>dis_train_loop</span><progress style='margin:2px 4px;description_width:initial;' max='3' value='3'></progress>100% 3/3 [00:00&lt;00:00, 10.28it/s]</div>"
            ],
            "text/plain": [
              "<tqdm._fake_ipywidgets.HBox object>"
            ]
          },
          "metadata": {
            "tags": []
          }
        },
        {
          "output_type": "stream",
          "text": [
            "d_summary: loss=0.107, accuracy=0.969\n"
          ],
          "name": "stdout"
        },
        {
          "output_type": "display_data",
          "data": {
            "text/html": [
              "<div style=\"display:flex;flex-direction:row;\"><span>dis_train_loop</span><progress style='margin:2px 4px;description_width:initial;' max='3' value='3'></progress>100% 3/3 [00:00&lt;00:00,  9.91it/s]</div>"
            ],
            "text/plain": [
              "<tqdm._fake_ipywidgets.HBox object>"
            ]
          },
          "metadata": {
            "tags": []
          }
        },
        {
          "output_type": "stream",
          "text": [
            "d_summary: loss=0.200, accuracy=0.938\n"
          ],
          "name": "stdout"
        },
        {
          "output_type": "display_data",
          "data": {
            "text/html": [
              "<div style=\"display:flex;flex-direction:row;\"><span>dis_train_loop</span><progress style='margin:2px 4px;description_width:initial;' max='3' value='3'></progress>100% 3/3 [00:00&lt;00:00, 10.38it/s]</div>"
            ],
            "text/plain": [
              "<tqdm._fake_ipywidgets.HBox object>"
            ]
          },
          "metadata": {
            "tags": []
          }
        },
        {
          "output_type": "stream",
          "text": [
            "d_summary: loss=0.130, accuracy=0.969\n",
            "                                       text fake\n",
            "4606       relay gums invests counsel path     1\n",
            "4607  classroom nascar strategy ti standen     1\n",
            "g_summary: loss=13.322, reward=0.434\n"
          ],
          "name": "stdout"
        },
        {
          "output_type": "display_data",
          "data": {
            "text/html": [
              "<div style=\"display:flex;flex-direction:row;\"><span>gen_train_loop</span><progress style='margin:2px 4px;description_width:initial;' max='5' value='5'></progress>100% 5/5 [00:33&lt;00:00,  6.73s/it]</div>"
            ],
            "text/plain": [
              "<tqdm._fake_ipywidgets.HBox object>"
            ]
          },
          "metadata": {
            "tags": []
          }
        },
        {
          "output_type": "display_data",
          "data": {
            "text/html": [
              "<div style=\"display:flex;flex-direction:row;\"><span>dis_train_loop</span><progress style='margin:2px 4px;description_width:initial;' max='3' value='3'></progress>100% 3/3 [00:00&lt;00:00,  9.94it/s]</div>"
            ],
            "text/plain": [
              "<tqdm._fake_ipywidgets.HBox object>"
            ]
          },
          "metadata": {
            "tags": []
          }
        },
        {
          "output_type": "stream",
          "text": [
            "d_summary: loss=0.061, accuracy=1.000\n"
          ],
          "name": "stdout"
        },
        {
          "output_type": "display_data",
          "data": {
            "text/html": [
              "<div style=\"display:flex;flex-direction:row;\"><span>dis_train_loop</span><progress style='margin:2px 4px;description_width:initial;' max='3' value='3'></progress>100% 3/3 [00:00&lt;00:00,  9.86it/s]</div>"
            ],
            "text/plain": [
              "<tqdm._fake_ipywidgets.HBox object>"
            ]
          },
          "metadata": {
            "tags": []
          }
        },
        {
          "output_type": "stream",
          "text": [
            "d_summary: loss=0.093, accuracy=0.984\n"
          ],
          "name": "stdout"
        },
        {
          "output_type": "display_data",
          "data": {
            "text/html": [
              "<div style=\"display:flex;flex-direction:row;\"><span>dis_train_loop</span><progress style='margin:2px 4px;description_width:initial;' max='3' value='3'></progress>100% 3/3 [00:00&lt;00:00,  9.97it/s]</div>"
            ],
            "text/plain": [
              "<tqdm._fake_ipywidgets.HBox object>"
            ]
          },
          "metadata": {
            "tags": []
          }
        },
        {
          "output_type": "stream",
          "text": [
            "d_summary: loss=0.210, accuracy=0.969\n"
          ],
          "name": "stdout"
        },
        {
          "output_type": "display_data",
          "data": {
            "text/html": [
              "<div style=\"display:flex;flex-direction:row;\"><span>dis_train_loop</span><progress style='margin:2px 4px;description_width:initial;' max='3' value='3'></progress>100% 3/3 [00:00&lt;00:00,  9.90it/s]</div>"
            ],
            "text/plain": [
              "<tqdm._fake_ipywidgets.HBox object>"
            ]
          },
          "metadata": {
            "tags": []
          }
        },
        {
          "output_type": "stream",
          "text": [
            "d_summary: loss=0.077, accuracy=0.984\n"
          ],
          "name": "stdout"
        },
        {
          "output_type": "display_data",
          "data": {
            "text/html": [
              "<div style=\"display:flex;flex-direction:row;\"><span>dis_train_loop</span><progress style='margin:2px 4px;description_width:initial;' max='3' value='3'></progress>100% 3/3 [00:00&lt;00:00,  9.82it/s]</div>"
            ],
            "text/plain": [
              "<tqdm._fake_ipywidgets.HBox object>"
            ]
          },
          "metadata": {
            "tags": []
          }
        },
        {
          "output_type": "stream",
          "text": [
            "d_summary: loss=0.082, accuracy=1.000\n",
            "                                                   text fake\n",
            "4990  alcoholic independence changes federalism elki...    1\n",
            "4991             volkers iconic placements walters gdp     1\n",
            "g_summary: loss=13.182, reward=0.369\n"
          ],
          "name": "stdout"
        },
        {
          "output_type": "display_data",
          "data": {
            "text/html": [
              "<div style=\"display:flex;flex-direction:row;\"><span>gen_train_loop</span><progress style='margin:2px 4px;description_width:initial;' max='5' value='5'></progress>100% 5/5 [00:33&lt;00:00,  6.67s/it]</div>"
            ],
            "text/plain": [
              "<tqdm._fake_ipywidgets.HBox object>"
            ]
          },
          "metadata": {
            "tags": []
          }
        },
        {
          "output_type": "display_data",
          "data": {
            "text/html": [
              "<div style=\"display:flex;flex-direction:row;\"><span>dis_train_loop</span><progress style='margin:2px 4px;description_width:initial;' max='3' value='3'></progress>100% 3/3 [00:00&lt;00:00, 10.26it/s]</div>"
            ],
            "text/plain": [
              "<tqdm._fake_ipywidgets.HBox object>"
            ]
          },
          "metadata": {
            "tags": []
          }
        },
        {
          "output_type": "stream",
          "text": [
            "d_summary: loss=0.247, accuracy=0.953\n"
          ],
          "name": "stdout"
        },
        {
          "output_type": "display_data",
          "data": {
            "text/html": [
              "<div style=\"display:flex;flex-direction:row;\"><span>dis_train_loop</span><progress style='margin:2px 4px;description_width:initial;' max='3' value='3'></progress>100% 3/3 [00:00&lt;00:00,  9.92it/s]</div>"
            ],
            "text/plain": [
              "<tqdm._fake_ipywidgets.HBox object>"
            ]
          },
          "metadata": {
            "tags": []
          }
        },
        {
          "output_type": "stream",
          "text": [
            "d_summary: loss=0.120, accuracy=0.984\n"
          ],
          "name": "stdout"
        },
        {
          "output_type": "display_data",
          "data": {
            "text/html": [
              "<div style=\"display:flex;flex-direction:row;\"><span>dis_train_loop</span><progress style='margin:2px 4px;description_width:initial;' max='3' value='3'></progress>100% 3/3 [00:00&lt;00:00, 10.34it/s]</div>"
            ],
            "text/plain": [
              "<tqdm._fake_ipywidgets.HBox object>"
            ]
          },
          "metadata": {
            "tags": []
          }
        },
        {
          "output_type": "stream",
          "text": [
            "d_summary: loss=0.084, accuracy=0.984\n"
          ],
          "name": "stdout"
        },
        {
          "output_type": "display_data",
          "data": {
            "text/html": [
              "<div style=\"display:flex;flex-direction:row;\"><span>dis_train_loop</span><progress style='margin:2px 4px;description_width:initial;' max='3' value='3'></progress>100% 3/3 [00:00&lt;00:00, 10.10it/s]</div>"
            ],
            "text/plain": [
              "<tqdm._fake_ipywidgets.HBox object>"
            ]
          },
          "metadata": {
            "tags": []
          }
        },
        {
          "output_type": "stream",
          "text": [
            "d_summary: loss=0.069, accuracy=0.984\n"
          ],
          "name": "stdout"
        },
        {
          "output_type": "display_data",
          "data": {
            "text/html": [
              "<div style=\"display:flex;flex-direction:row;\"><span>dis_train_loop</span><progress style='margin:2px 4px;description_width:initial;' max='3' value='3'></progress>100% 3/3 [00:00&lt;00:00,  9.30it/s]</div>"
            ],
            "text/plain": [
              "<tqdm._fake_ipywidgets.HBox object>"
            ]
          },
          "metadata": {
            "tags": []
          }
        },
        {
          "output_type": "stream",
          "text": [
            "d_summary: loss=0.075, accuracy=0.984\n",
            "                                      text fake\n",
            "5374  promina surjan javelin wattle cowal     1\n",
            "5375            mua mike le hobarts mulls     1\n",
            "g_summary: loss=12.763, reward=0.498\n"
          ],
          "name": "stdout"
        },
        {
          "output_type": "display_data",
          "data": {
            "text/html": [
              "<div style=\"display:flex;flex-direction:row;\"><span>gen_train_loop</span><progress style='margin:2px 4px;description_width:initial;' max='5' value='5'></progress>100% 5/5 [00:33&lt;00:00,  6.72s/it]</div>"
            ],
            "text/plain": [
              "<tqdm._fake_ipywidgets.HBox object>"
            ]
          },
          "metadata": {
            "tags": []
          }
        },
        {
          "output_type": "display_data",
          "data": {
            "text/html": [
              "<div style=\"display:flex;flex-direction:row;\"><span>dis_train_loop</span><progress style='margin:2px 4px;description_width:initial;' max='3' value='3'></progress>100% 3/3 [00:00&lt;00:00,  9.24it/s]</div>"
            ],
            "text/plain": [
              "<tqdm._fake_ipywidgets.HBox object>"
            ]
          },
          "metadata": {
            "tags": []
          }
        },
        {
          "output_type": "stream",
          "text": [
            "d_summary: loss=0.123, accuracy=0.984\n"
          ],
          "name": "stdout"
        },
        {
          "output_type": "display_data",
          "data": {
            "text/html": [
              "<div style=\"display:flex;flex-direction:row;\"><span>dis_train_loop</span><progress style='margin:2px 4px;description_width:initial;' max='3' value='3'></progress>100% 3/3 [00:00&lt;00:00, 10.12it/s]</div>"
            ],
            "text/plain": [
              "<tqdm._fake_ipywidgets.HBox object>"
            ]
          },
          "metadata": {
            "tags": []
          }
        },
        {
          "output_type": "stream",
          "text": [
            "d_summary: loss=0.152, accuracy=0.922\n"
          ],
          "name": "stdout"
        },
        {
          "output_type": "display_data",
          "data": {
            "text/html": [
              "<div style=\"display:flex;flex-direction:row;\"><span>dis_train_loop</span><progress style='margin:2px 4px;description_width:initial;' max='3' value='3'></progress>100% 3/3 [00:00&lt;00:00, 10.17it/s]</div>"
            ],
            "text/plain": [
              "<tqdm._fake_ipywidgets.HBox object>"
            ]
          },
          "metadata": {
            "tags": []
          }
        },
        {
          "output_type": "stream",
          "text": [
            "d_summary: loss=0.204, accuracy=0.969\n"
          ],
          "name": "stdout"
        },
        {
          "output_type": "display_data",
          "data": {
            "text/html": [
              "<div style=\"display:flex;flex-direction:row;\"><span>dis_train_loop</span><progress style='margin:2px 4px;description_width:initial;' max='3' value='3'></progress>100% 3/3 [00:00&lt;00:00,  9.68it/s]</div>"
            ],
            "text/plain": [
              "<tqdm._fake_ipywidgets.HBox object>"
            ]
          },
          "metadata": {
            "tags": []
          }
        },
        {
          "output_type": "stream",
          "text": [
            "d_summary: loss=0.044, accuracy=1.000\n"
          ],
          "name": "stdout"
        },
        {
          "output_type": "display_data",
          "data": {
            "text/html": [
              "<div style=\"display:flex;flex-direction:row;\"><span>dis_train_loop</span><progress style='margin:2px 4px;description_width:initial;' max='3' value='3'></progress>100% 3/3 [00:00&lt;00:00,  9.31it/s]</div>"
            ],
            "text/plain": [
              "<tqdm._fake_ipywidgets.HBox object>"
            ]
          },
          "metadata": {
            "tags": []
          }
        },
        {
          "output_type": "stream",
          "text": [
            "d_summary: loss=0.059, accuracy=1.000\n",
            "                                        text fake\n",
            "5758  princes smallest conversion pic levee     1\n",
            "5759          bald maher swimmer rib kohler     1\n",
            "g_summary: loss=13.193, reward=0.406\n"
          ],
          "name": "stdout"
        },
        {
          "output_type": "display_data",
          "data": {
            "text/html": [
              "<div style=\"display:flex;flex-direction:row;\"><span>gen_train_loop</span><progress style='margin:2px 4px;description_width:initial;' max='5' value='5'></progress>100% 5/5 [00:33&lt;00:00,  6.69s/it]</div>"
            ],
            "text/plain": [
              "<tqdm._fake_ipywidgets.HBox object>"
            ]
          },
          "metadata": {
            "tags": []
          }
        },
        {
          "output_type": "display_data",
          "data": {
            "text/html": [
              "<div style=\"display:flex;flex-direction:row;\"><span>dis_train_loop</span><progress style='margin:2px 4px;description_width:initial;' max='3' value='3'></progress>100% 3/3 [00:00&lt;00:00,  9.98it/s]</div>"
            ],
            "text/plain": [
              "<tqdm._fake_ipywidgets.HBox object>"
            ]
          },
          "metadata": {
            "tags": []
          }
        },
        {
          "output_type": "stream",
          "text": [
            "d_summary: loss=0.060, accuracy=1.000\n"
          ],
          "name": "stdout"
        },
        {
          "output_type": "display_data",
          "data": {
            "text/html": [
              "<div style=\"display:flex;flex-direction:row;\"><span>dis_train_loop</span><progress style='margin:2px 4px;description_width:initial;' max='3' value='3'></progress>100% 3/3 [00:00&lt;00:00, 10.28it/s]</div>"
            ],
            "text/plain": [
              "<tqdm._fake_ipywidgets.HBox object>"
            ]
          },
          "metadata": {
            "tags": []
          }
        },
        {
          "output_type": "stream",
          "text": [
            "d_summary: loss=0.072, accuracy=0.984\n"
          ],
          "name": "stdout"
        },
        {
          "output_type": "display_data",
          "data": {
            "text/html": [
              "<div style=\"display:flex;flex-direction:row;\"><span>dis_train_loop</span><progress style='margin:2px 4px;description_width:initial;' max='3' value='3'></progress>100% 3/3 [00:00&lt;00:00,  9.47it/s]</div>"
            ],
            "text/plain": [
              "<tqdm._fake_ipywidgets.HBox object>"
            ]
          },
          "metadata": {
            "tags": []
          }
        },
        {
          "output_type": "stream",
          "text": [
            "d_summary: loss=0.156, accuracy=0.953\n"
          ],
          "name": "stdout"
        },
        {
          "output_type": "display_data",
          "data": {
            "text/html": [
              "<div style=\"display:flex;flex-direction:row;\"><span>dis_train_loop</span><progress style='margin:2px 4px;description_width:initial;' max='3' value='3'></progress>100% 3/3 [00:00&lt;00:00, 10.97it/s]</div>"
            ],
            "text/plain": [
              "<tqdm._fake_ipywidgets.HBox object>"
            ]
          },
          "metadata": {
            "tags": []
          }
        },
        {
          "output_type": "stream",
          "text": [
            "d_summary: loss=0.242, accuracy=0.953\n"
          ],
          "name": "stdout"
        },
        {
          "output_type": "display_data",
          "data": {
            "text/html": [
              "<div style=\"display:flex;flex-direction:row;\"><span>dis_train_loop</span><progress style='margin:2px 4px;description_width:initial;' max='3' value='3'></progress>100% 3/3 [00:00&lt;00:00,  9.85it/s]</div>"
            ],
            "text/plain": [
              "<tqdm._fake_ipywidgets.HBox object>"
            ]
          },
          "metadata": {
            "tags": []
          }
        },
        {
          "output_type": "stream",
          "text": [
            "d_summary: loss=0.058, accuracy=0.984\n",
            "                                            text fake\n",
            "6142  heyfield genocide shortages actu petition     1\n",
            "6143      update dv starcraft celebrate confirm     1\n",
            "g_summary: loss=12.653, reward=0.325\n"
          ],
          "name": "stdout"
        },
        {
          "output_type": "display_data",
          "data": {
            "text/html": [
              "<div style=\"display:flex;flex-direction:row;\"><span>gen_train_loop</span><progress style='margin:2px 4px;description_width:initial;' max='5' value='5'></progress>100% 5/5 [00:33&lt;00:00,  6.76s/it]</div>"
            ],
            "text/plain": [
              "<tqdm._fake_ipywidgets.HBox object>"
            ]
          },
          "metadata": {
            "tags": []
          }
        },
        {
          "output_type": "display_data",
          "data": {
            "text/html": [
              "<div style=\"display:flex;flex-direction:row;\"><span>dis_train_loop</span><progress style='margin:2px 4px;description_width:initial;' max='3' value='3'></progress>100% 3/3 [00:00&lt;00:00, 10.01it/s]</div>"
            ],
            "text/plain": [
              "<tqdm._fake_ipywidgets.HBox object>"
            ]
          },
          "metadata": {
            "tags": []
          }
        },
        {
          "output_type": "stream",
          "text": [
            "d_summary: loss=0.062, accuracy=0.984\n"
          ],
          "name": "stdout"
        },
        {
          "output_type": "display_data",
          "data": {
            "text/html": [
              "<div style=\"display:flex;flex-direction:row;\"><span>dis_train_loop</span><progress style='margin:2px 4px;description_width:initial;' max='3' value='3'></progress>100% 3/3 [00:00&lt;00:00,  9.04it/s]</div>"
            ],
            "text/plain": [
              "<tqdm._fake_ipywidgets.HBox object>"
            ]
          },
          "metadata": {
            "tags": []
          }
        },
        {
          "output_type": "stream",
          "text": [
            "d_summary: loss=0.152, accuracy=0.969\n"
          ],
          "name": "stdout"
        },
        {
          "output_type": "display_data",
          "data": {
            "text/html": [
              "<div style=\"display:flex;flex-direction:row;\"><span>dis_train_loop</span><progress style='margin:2px 4px;description_width:initial;' max='3' value='3'></progress>100% 3/3 [00:00&lt;00:00, 10.29it/s]</div>"
            ],
            "text/plain": [
              "<tqdm._fake_ipywidgets.HBox object>"
            ]
          },
          "metadata": {
            "tags": []
          }
        },
        {
          "output_type": "stream",
          "text": [
            "d_summary: loss=0.059, accuracy=0.984\n"
          ],
          "name": "stdout"
        },
        {
          "output_type": "display_data",
          "data": {
            "text/html": [
              "<div style=\"display:flex;flex-direction:row;\"><span>dis_train_loop</span><progress style='margin:2px 4px;description_width:initial;' max='3' value='3'></progress>100% 3/3 [00:00&lt;00:00,  9.91it/s]</div>"
            ],
            "text/plain": [
              "<tqdm._fake_ipywidgets.HBox object>"
            ]
          },
          "metadata": {
            "tags": []
          }
        },
        {
          "output_type": "stream",
          "text": [
            "d_summary: loss=0.179, accuracy=0.969\n"
          ],
          "name": "stdout"
        },
        {
          "output_type": "display_data",
          "data": {
            "text/html": [
              "<div style=\"display:flex;flex-direction:row;\"><span>dis_train_loop</span><progress style='margin:2px 4px;description_width:initial;' max='3' value='3'></progress>100% 3/3 [00:00&lt;00:00, 10.31it/s]</div>"
            ],
            "text/plain": [
              "<tqdm._fake_ipywidgets.HBox object>"
            ]
          },
          "metadata": {
            "tags": []
          }
        },
        {
          "output_type": "stream",
          "text": [
            "d_summary: loss=0.100, accuracy=0.969\n",
            "                                                text fake\n",
            "6526  weddings pathologist petty overwhelms unhappy     1\n",
            "6527         flanagan mysterious rr finnish heppell     1\n",
            "g_summary: loss=12.685, reward=0.391\n"
          ],
          "name": "stdout"
        },
        {
          "output_type": "display_data",
          "data": {
            "text/html": [
              "<div style=\"display:flex;flex-direction:row;\"><span>gen_train_loop</span><progress style='margin:2px 4px;description_width:initial;' max='5' value='5'></progress>100% 5/5 [00:33&lt;00:00,  6.73s/it]</div>"
            ],
            "text/plain": [
              "<tqdm._fake_ipywidgets.HBox object>"
            ]
          },
          "metadata": {
            "tags": []
          }
        },
        {
          "output_type": "display_data",
          "data": {
            "text/html": [
              "<div style=\"display:flex;flex-direction:row;\"><span>dis_train_loop</span><progress style='margin:2px 4px;description_width:initial;' max='3' value='3'></progress>100% 3/3 [00:00&lt;00:00,  9.84it/s]</div>"
            ],
            "text/plain": [
              "<tqdm._fake_ipywidgets.HBox object>"
            ]
          },
          "metadata": {
            "tags": []
          }
        },
        {
          "output_type": "stream",
          "text": [
            "d_summary: loss=0.049, accuracy=1.000\n"
          ],
          "name": "stdout"
        },
        {
          "output_type": "display_data",
          "data": {
            "text/html": [
              "<div style=\"display:flex;flex-direction:row;\"><span>dis_train_loop</span><progress style='margin:2px 4px;description_width:initial;' max='3' value='3'></progress>100% 3/3 [00:00&lt;00:00, 10.04it/s]</div>"
            ],
            "text/plain": [
              "<tqdm._fake_ipywidgets.HBox object>"
            ]
          },
          "metadata": {
            "tags": []
          }
        },
        {
          "output_type": "stream",
          "text": [
            "d_summary: loss=0.185, accuracy=0.969\n"
          ],
          "name": "stdout"
        },
        {
          "output_type": "display_data",
          "data": {
            "text/html": [
              "<div style=\"display:flex;flex-direction:row;\"><span>dis_train_loop</span><progress style='margin:2px 4px;description_width:initial;' max='3' value='3'></progress>100% 3/3 [00:00&lt;00:00, 10.31it/s]</div>"
            ],
            "text/plain": [
              "<tqdm._fake_ipywidgets.HBox object>"
            ]
          },
          "metadata": {
            "tags": []
          }
        },
        {
          "output_type": "stream",
          "text": [
            "d_summary: loss=0.068, accuracy=1.000\n"
          ],
          "name": "stdout"
        },
        {
          "output_type": "display_data",
          "data": {
            "text/html": [
              "<div style=\"display:flex;flex-direction:row;\"><span>dis_train_loop</span><progress style='margin:2px 4px;description_width:initial;' max='3' value='3'></progress>100% 3/3 [00:00&lt;00:00,  9.84it/s]</div>"
            ],
            "text/plain": [
              "<tqdm._fake_ipywidgets.HBox object>"
            ]
          },
          "metadata": {
            "tags": []
          }
        },
        {
          "output_type": "stream",
          "text": [
            "d_summary: loss=0.228, accuracy=0.953\n"
          ],
          "name": "stdout"
        },
        {
          "output_type": "display_data",
          "data": {
            "text/html": [
              "<div style=\"display:flex;flex-direction:row;\"><span>dis_train_loop</span><progress style='margin:2px 4px;description_width:initial;' max='3' value='3'></progress>100% 3/3 [00:00&lt;00:00,  9.64it/s]</div>"
            ],
            "text/plain": [
              "<tqdm._fake_ipywidgets.HBox object>"
            ]
          },
          "metadata": {
            "tags": []
          }
        },
        {
          "output_type": "stream",
          "text": [
            "d_summary: loss=0.244, accuracy=0.984\n",
            "                                           text fake\n",
            "6910  simulator euro chifley dalby pathologist     1\n",
            "6911   longford misleading webcke sols angling     1\n",
            "g_summary: loss=13.205, reward=0.373\n"
          ],
          "name": "stdout"
        },
        {
          "output_type": "display_data",
          "data": {
            "text/html": [
              "<div style=\"display:flex;flex-direction:row;\"><span>gen_train_loop</span><progress style='margin:2px 4px;description_width:initial;' max='5' value='5'></progress>100% 5/5 [00:33&lt;00:00,  6.68s/it]</div>"
            ],
            "text/plain": [
              "<tqdm._fake_ipywidgets.HBox object>"
            ]
          },
          "metadata": {
            "tags": []
          }
        },
        {
          "output_type": "display_data",
          "data": {
            "text/html": [
              "<div style=\"display:flex;flex-direction:row;\"><span>dis_train_loop</span><progress style='margin:2px 4px;description_width:initial;' max='3' value='3'></progress>100% 3/3 [00:00&lt;00:00,  9.88it/s]</div>"
            ],
            "text/plain": [
              "<tqdm._fake_ipywidgets.HBox object>"
            ]
          },
          "metadata": {
            "tags": []
          }
        },
        {
          "output_type": "stream",
          "text": [
            "d_summary: loss=0.058, accuracy=1.000\n"
          ],
          "name": "stdout"
        },
        {
          "output_type": "display_data",
          "data": {
            "text/html": [
              "<div style=\"display:flex;flex-direction:row;\"><span>dis_train_loop</span><progress style='margin:2px 4px;description_width:initial;' max='3' value='3'></progress>100% 3/3 [00:00&lt;00:00, 11.00it/s]</div>"
            ],
            "text/plain": [
              "<tqdm._fake_ipywidgets.HBox object>"
            ]
          },
          "metadata": {
            "tags": []
          }
        },
        {
          "output_type": "stream",
          "text": [
            "d_summary: loss=0.223, accuracy=0.953\n"
          ],
          "name": "stdout"
        },
        {
          "output_type": "display_data",
          "data": {
            "text/html": [
              "<div style=\"display:flex;flex-direction:row;\"><span>dis_train_loop</span><progress style='margin:2px 4px;description_width:initial;' max='3' value='3'></progress>100% 3/3 [00:00&lt;00:00, 10.17it/s]</div>"
            ],
            "text/plain": [
              "<tqdm._fake_ipywidgets.HBox object>"
            ]
          },
          "metadata": {
            "tags": []
          }
        },
        {
          "output_type": "stream",
          "text": [
            "d_summary: loss=0.083, accuracy=0.984\n"
          ],
          "name": "stdout"
        },
        {
          "output_type": "display_data",
          "data": {
            "text/html": [
              "<div style=\"display:flex;flex-direction:row;\"><span>dis_train_loop</span><progress style='margin:2px 4px;description_width:initial;' max='3' value='3'></progress>100% 3/3 [00:00&lt;00:00, 10.14it/s]</div>"
            ],
            "text/plain": [
              "<tqdm._fake_ipywidgets.HBox object>"
            ]
          },
          "metadata": {
            "tags": []
          }
        },
        {
          "output_type": "stream",
          "text": [
            "d_summary: loss=0.111, accuracy=0.984\n"
          ],
          "name": "stdout"
        },
        {
          "output_type": "display_data",
          "data": {
            "text/html": [
              "<div style=\"display:flex;flex-direction:row;\"><span>dis_train_loop</span><progress style='margin:2px 4px;description_width:initial;' max='3' value='3'></progress>100% 3/3 [00:00&lt;00:00, 10.02it/s]</div>"
            ],
            "text/plain": [
              "<tqdm._fake_ipywidgets.HBox object>"
            ]
          },
          "metadata": {
            "tags": []
          }
        },
        {
          "output_type": "stream",
          "text": [
            "d_summary: loss=0.075, accuracy=0.984\n",
            "                                      text fake\n",
            "7294     angling sarkozy makybe cas klaus     1\n",
            "7295  glenside islam zoe collect ventures     1\n",
            "g_summary: loss=12.791, reward=0.206\n"
          ],
          "name": "stdout"
        },
        {
          "output_type": "display_data",
          "data": {
            "text/html": [
              "<div style=\"display:flex;flex-direction:row;\"><span>gen_train_loop</span><progress style='margin:2px 4px;description_width:initial;' max='5' value='5'></progress>100% 5/5 [00:33&lt;00:00,  6.69s/it]</div>"
            ],
            "text/plain": [
              "<tqdm._fake_ipywidgets.HBox object>"
            ]
          },
          "metadata": {
            "tags": []
          }
        },
        {
          "output_type": "display_data",
          "data": {
            "text/html": [
              "<div style=\"display:flex;flex-direction:row;\"><span>dis_train_loop</span><progress style='margin:2px 4px;description_width:initial;' max='3' value='3'></progress>100% 3/3 [00:00&lt;00:00,  9.92it/s]</div>"
            ],
            "text/plain": [
              "<tqdm._fake_ipywidgets.HBox object>"
            ]
          },
          "metadata": {
            "tags": []
          }
        },
        {
          "output_type": "stream",
          "text": [
            "d_summary: loss=0.045, accuracy=1.000\n"
          ],
          "name": "stdout"
        },
        {
          "output_type": "display_data",
          "data": {
            "text/html": [
              "<div style=\"display:flex;flex-direction:row;\"><span>dis_train_loop</span><progress style='margin:2px 4px;description_width:initial;' max='3' value='3'></progress>100% 3/3 [00:00&lt;00:00,  9.89it/s]</div>"
            ],
            "text/plain": [
              "<tqdm._fake_ipywidgets.HBox object>"
            ]
          },
          "metadata": {
            "tags": []
          }
        },
        {
          "output_type": "stream",
          "text": [
            "d_summary: loss=0.127, accuracy=0.984\n"
          ],
          "name": "stdout"
        },
        {
          "output_type": "display_data",
          "data": {
            "text/html": [
              "<div style=\"display:flex;flex-direction:row;\"><span>dis_train_loop</span><progress style='margin:2px 4px;description_width:initial;' max='3' value='3'></progress>100% 3/3 [00:00&lt;00:00, 10.15it/s]</div>"
            ],
            "text/plain": [
              "<tqdm._fake_ipywidgets.HBox object>"
            ]
          },
          "metadata": {
            "tags": []
          }
        },
        {
          "output_type": "stream",
          "text": [
            "d_summary: loss=0.100, accuracy=0.984\n"
          ],
          "name": "stdout"
        },
        {
          "output_type": "display_data",
          "data": {
            "text/html": [
              "<div style=\"display:flex;flex-direction:row;\"><span>dis_train_loop</span><progress style='margin:2px 4px;description_width:initial;' max='3' value='3'></progress>100% 3/3 [00:00&lt;00:00,  9.39it/s]</div>"
            ],
            "text/plain": [
              "<tqdm._fake_ipywidgets.HBox object>"
            ]
          },
          "metadata": {
            "tags": []
          }
        },
        {
          "output_type": "stream",
          "text": [
            "d_summary: loss=0.038, accuracy=1.000\n"
          ],
          "name": "stdout"
        },
        {
          "output_type": "display_data",
          "data": {
            "text/html": [
              "<div style=\"display:flex;flex-direction:row;\"><span>dis_train_loop</span><progress style='margin:2px 4px;description_width:initial;' max='3' value='3'></progress>100% 3/3 [00:00&lt;00:00, 10.03it/s]</div>"
            ],
            "text/plain": [
              "<tqdm._fake_ipywidgets.HBox object>"
            ]
          },
          "metadata": {
            "tags": []
          }
        },
        {
          "output_type": "stream",
          "text": [
            "d_summary: loss=0.142, accuracy=0.969\n",
            "                                             text fake\n",
            "7678     bentley evasion duster levels greenwood     1\n",
            "7679  mar constellation corps armstrong escapees     1\n",
            "g_summary: loss=12.575, reward=0.211\n"
          ],
          "name": "stdout"
        },
        {
          "output_type": "display_data",
          "data": {
            "text/html": [
              "<div style=\"display:flex;flex-direction:row;\"><span>gen_train_loop</span><progress style='margin:2px 4px;description_width:initial;' max='5' value='5'></progress>100% 5/5 [00:33&lt;00:00,  6.69s/it]</div>"
            ],
            "text/plain": [
              "<tqdm._fake_ipywidgets.HBox object>"
            ]
          },
          "metadata": {
            "tags": []
          }
        },
        {
          "output_type": "display_data",
          "data": {
            "text/html": [
              "<div style=\"display:flex;flex-direction:row;\"><span>dis_train_loop</span><progress style='margin:2px 4px;description_width:initial;' max='3' value='3'></progress>100% 3/3 [00:00&lt;00:00, 10.13it/s]</div>"
            ],
            "text/plain": [
              "<tqdm._fake_ipywidgets.HBox object>"
            ]
          },
          "metadata": {
            "tags": []
          }
        },
        {
          "output_type": "stream",
          "text": [
            "d_summary: loss=0.078, accuracy=0.984\n"
          ],
          "name": "stdout"
        },
        {
          "output_type": "display_data",
          "data": {
            "text/html": [
              "<div style=\"display:flex;flex-direction:row;\"><span>dis_train_loop</span><progress style='margin:2px 4px;description_width:initial;' max='3' value='3'></progress>100% 3/3 [00:00&lt;00:00,  9.89it/s]</div>"
            ],
            "text/plain": [
              "<tqdm._fake_ipywidgets.HBox object>"
            ]
          },
          "metadata": {
            "tags": []
          }
        },
        {
          "output_type": "stream",
          "text": [
            "d_summary: loss=0.039, accuracy=1.000\n"
          ],
          "name": "stdout"
        },
        {
          "output_type": "display_data",
          "data": {
            "text/html": [
              "<div style=\"display:flex;flex-direction:row;\"><span>dis_train_loop</span><progress style='margin:2px 4px;description_width:initial;' max='3' value='3'></progress>100% 3/3 [00:00&lt;00:00,  9.98it/s]</div>"
            ],
            "text/plain": [
              "<tqdm._fake_ipywidgets.HBox object>"
            ]
          },
          "metadata": {
            "tags": []
          }
        },
        {
          "output_type": "stream",
          "text": [
            "d_summary: loss=0.084, accuracy=0.969\n"
          ],
          "name": "stdout"
        },
        {
          "output_type": "display_data",
          "data": {
            "text/html": [
              "<div style=\"display:flex;flex-direction:row;\"><span>dis_train_loop</span><progress style='margin:2px 4px;description_width:initial;' max='3' value='3'></progress>100% 3/3 [00:00&lt;00:00,  9.79it/s]</div>"
            ],
            "text/plain": [
              "<tqdm._fake_ipywidgets.HBox object>"
            ]
          },
          "metadata": {
            "tags": []
          }
        },
        {
          "output_type": "stream",
          "text": [
            "d_summary: loss=0.221, accuracy=0.953\n"
          ],
          "name": "stdout"
        },
        {
          "output_type": "display_data",
          "data": {
            "text/html": [
              "<div style=\"display:flex;flex-direction:row;\"><span>dis_train_loop</span><progress style='margin:2px 4px;description_width:initial;' max='3' value='3'></progress>100% 3/3 [00:00&lt;00:00, 10.21it/s]</div>"
            ],
            "text/plain": [
              "<tqdm._fake_ipywidgets.HBox object>"
            ]
          },
          "metadata": {
            "tags": []
          }
        },
        {
          "output_type": "stream",
          "text": [
            "d_summary: loss=0.125, accuracy=0.969\n",
            "                                        text fake\n",
            "8062      j tarcutta tarcutta angling eddie     1\n",
            "8063  cloke adams bresciano hartley charged     1\n",
            "g_summary: loss=12.738, reward=0.198\n"
          ],
          "name": "stdout"
        },
        {
          "output_type": "display_data",
          "data": {
            "text/html": [
              "<div style=\"display:flex;flex-direction:row;\"><span>gen_train_loop</span><progress style='margin:2px 4px;description_width:initial;' max='5' value='5'></progress>100% 5/5 [00:33&lt;00:00,  6.68s/it]</div>"
            ],
            "text/plain": [
              "<tqdm._fake_ipywidgets.HBox object>"
            ]
          },
          "metadata": {
            "tags": []
          }
        },
        {
          "output_type": "display_data",
          "data": {
            "text/html": [
              "<div style=\"display:flex;flex-direction:row;\"><span>dis_train_loop</span><progress style='margin:2px 4px;description_width:initial;' max='3' value='3'></progress>100% 3/3 [00:00&lt;00:00,  9.53it/s]</div>"
            ],
            "text/plain": [
              "<tqdm._fake_ipywidgets.HBox object>"
            ]
          },
          "metadata": {
            "tags": []
          }
        },
        {
          "output_type": "stream",
          "text": [
            "d_summary: loss=0.083, accuracy=0.984\n"
          ],
          "name": "stdout"
        },
        {
          "output_type": "display_data",
          "data": {
            "text/html": [
              "<div style=\"display:flex;flex-direction:row;\"><span>dis_train_loop</span><progress style='margin:2px 4px;description_width:initial;' max='3' value='3'></progress>100% 3/3 [00:00&lt;00:00,  9.84it/s]</div>"
            ],
            "text/plain": [
              "<tqdm._fake_ipywidgets.HBox object>"
            ]
          },
          "metadata": {
            "tags": []
          }
        },
        {
          "output_type": "stream",
          "text": [
            "d_summary: loss=0.063, accuracy=0.984\n"
          ],
          "name": "stdout"
        },
        {
          "output_type": "display_data",
          "data": {
            "text/html": [
              "<div style=\"display:flex;flex-direction:row;\"><span>dis_train_loop</span><progress style='margin:2px 4px;description_width:initial;' max='3' value='3'></progress>100% 3/3 [00:00&lt;00:00, 10.30it/s]</div>"
            ],
            "text/plain": [
              "<tqdm._fake_ipywidgets.HBox object>"
            ]
          },
          "metadata": {
            "tags": []
          }
        },
        {
          "output_type": "stream",
          "text": [
            "d_summary: loss=0.110, accuracy=0.984\n"
          ],
          "name": "stdout"
        },
        {
          "output_type": "display_data",
          "data": {
            "text/html": [
              "<div style=\"display:flex;flex-direction:row;\"><span>dis_train_loop</span><progress style='margin:2px 4px;description_width:initial;' max='3' value='3'></progress>100% 3/3 [00:00&lt;00:00, 10.13it/s]</div>"
            ],
            "text/plain": [
              "<tqdm._fake_ipywidgets.HBox object>"
            ]
          },
          "metadata": {
            "tags": []
          }
        },
        {
          "output_type": "stream",
          "text": [
            "d_summary: loss=0.183, accuracy=0.984\n"
          ],
          "name": "stdout"
        },
        {
          "output_type": "display_data",
          "data": {
            "text/html": [
              "<div style=\"display:flex;flex-direction:row;\"><span>dis_train_loop</span><progress style='margin:2px 4px;description_width:initial;' max='3' value='3'></progress>100% 3/3 [00:00&lt;00:00,  9.92it/s]</div>"
            ],
            "text/plain": [
              "<tqdm._fake_ipywidgets.HBox object>"
            ]
          },
          "metadata": {
            "tags": []
          }
        },
        {
          "output_type": "stream",
          "text": [
            "d_summary: loss=0.125, accuracy=0.969\n",
            "                                             text fake\n",
            "8446  dunlop courtenay humbles watmough cochrane     1\n",
            "8447    talking amendments fruits reflect church     1\n",
            "g_summary: loss=12.776, reward=0.265\n"
          ],
          "name": "stdout"
        },
        {
          "output_type": "display_data",
          "data": {
            "text/html": [
              "<div style=\"display:flex;flex-direction:row;\"><span>gen_train_loop</span><progress style='margin:2px 4px;description_width:initial;' max='5' value='5'></progress>100% 5/5 [00:33&lt;00:00,  6.68s/it]</div>"
            ],
            "text/plain": [
              "<tqdm._fake_ipywidgets.HBox object>"
            ]
          },
          "metadata": {
            "tags": []
          }
        },
        {
          "output_type": "display_data",
          "data": {
            "text/html": [
              "<div style=\"display:flex;flex-direction:row;\"><span>dis_train_loop</span><progress style='margin:2px 4px;description_width:initial;' max='3' value='3'></progress>100% 3/3 [00:00&lt;00:00,  9.41it/s]</div>"
            ],
            "text/plain": [
              "<tqdm._fake_ipywidgets.HBox object>"
            ]
          },
          "metadata": {
            "tags": []
          }
        },
        {
          "output_type": "stream",
          "text": [
            "d_summary: loss=0.046, accuracy=1.000\n"
          ],
          "name": "stdout"
        },
        {
          "output_type": "display_data",
          "data": {
            "text/html": [
              "<div style=\"display:flex;flex-direction:row;\"><span>dis_train_loop</span><progress style='margin:2px 4px;description_width:initial;' max='3' value='3'></progress>100% 3/3 [00:00&lt;00:00, 10.50it/s]</div>"
            ],
            "text/plain": [
              "<tqdm._fake_ipywidgets.HBox object>"
            ]
          },
          "metadata": {
            "tags": []
          }
        },
        {
          "output_type": "stream",
          "text": [
            "d_summary: loss=0.044, accuracy=1.000\n"
          ],
          "name": "stdout"
        },
        {
          "output_type": "display_data",
          "data": {
            "text/html": [
              "<div style=\"display:flex;flex-direction:row;\"><span>dis_train_loop</span><progress style='margin:2px 4px;description_width:initial;' max='3' value='3'></progress>100% 3/3 [00:00&lt;00:00,  9.20it/s]</div>"
            ],
            "text/plain": [
              "<tqdm._fake_ipywidgets.HBox object>"
            ]
          },
          "metadata": {
            "tags": []
          }
        },
        {
          "output_type": "stream",
          "text": [
            "d_summary: loss=0.067, accuracy=0.984\n"
          ],
          "name": "stdout"
        },
        {
          "output_type": "display_data",
          "data": {
            "text/html": [
              "<div style=\"display:flex;flex-direction:row;\"><span>dis_train_loop</span><progress style='margin:2px 4px;description_width:initial;' max='3' value='3'></progress>100% 3/3 [00:00&lt;00:00, 10.31it/s]</div>"
            ],
            "text/plain": [
              "<tqdm._fake_ipywidgets.HBox object>"
            ]
          },
          "metadata": {
            "tags": []
          }
        },
        {
          "output_type": "stream",
          "text": [
            "d_summary: loss=0.090, accuracy=0.984\n"
          ],
          "name": "stdout"
        },
        {
          "output_type": "display_data",
          "data": {
            "text/html": [
              "<div style=\"display:flex;flex-direction:row;\"><span>dis_train_loop</span><progress style='margin:2px 4px;description_width:initial;' max='3' value='3'></progress>100% 3/3 [00:00&lt;00:00, 10.16it/s]</div>"
            ],
            "text/plain": [
              "<tqdm._fake_ipywidgets.HBox object>"
            ]
          },
          "metadata": {
            "tags": []
          }
        },
        {
          "output_type": "stream",
          "text": [
            "d_summary: loss=0.072, accuracy=0.984\n",
            "                                              text fake\n",
            "8830  stateline shot depth skoko decentralisation     1\n",
            "8831          basic lyme scope tributes inundated     1\n",
            "g_summary: loss=12.422, reward=0.245\n"
          ],
          "name": "stdout"
        },
        {
          "output_type": "display_data",
          "data": {
            "text/html": [
              "<div style=\"display:flex;flex-direction:row;\"><span>gen_train_loop</span><progress style='margin:2px 4px;description_width:initial;' max='5' value='5'></progress>100% 5/5 [00:33&lt;00:00,  6.71s/it]</div>"
            ],
            "text/plain": [
              "<tqdm._fake_ipywidgets.HBox object>"
            ]
          },
          "metadata": {
            "tags": []
          }
        },
        {
          "output_type": "display_data",
          "data": {
            "text/html": [
              "<div style=\"display:flex;flex-direction:row;\"><span>dis_train_loop</span><progress style='margin:2px 4px;description_width:initial;' max='3' value='3'></progress>100% 3/3 [00:00&lt;00:00, 10.43it/s]</div>"
            ],
            "text/plain": [
              "<tqdm._fake_ipywidgets.HBox object>"
            ]
          },
          "metadata": {
            "tags": []
          }
        },
        {
          "output_type": "stream",
          "text": [
            "d_summary: loss=0.042, accuracy=1.000\n"
          ],
          "name": "stdout"
        },
        {
          "output_type": "display_data",
          "data": {
            "text/html": [
              "<div style=\"display:flex;flex-direction:row;\"><span>dis_train_loop</span><progress style='margin:2px 4px;description_width:initial;' max='3' value='3'></progress>100% 3/3 [00:00&lt;00:00,  9.45it/s]</div>"
            ],
            "text/plain": [
              "<tqdm._fake_ipywidgets.HBox object>"
            ]
          },
          "metadata": {
            "tags": []
          }
        },
        {
          "output_type": "stream",
          "text": [
            "d_summary: loss=0.110, accuracy=0.984\n"
          ],
          "name": "stdout"
        },
        {
          "output_type": "display_data",
          "data": {
            "text/html": [
              "<div style=\"display:flex;flex-direction:row;\"><span>dis_train_loop</span><progress style='margin:2px 4px;description_width:initial;' max='3' value='3'></progress>100% 3/3 [00:00&lt;00:00,  9.83it/s]</div>"
            ],
            "text/plain": [
              "<tqdm._fake_ipywidgets.HBox object>"
            ]
          },
          "metadata": {
            "tags": []
          }
        },
        {
          "output_type": "stream",
          "text": [
            "d_summary: loss=0.169, accuracy=0.984\n"
          ],
          "name": "stdout"
        },
        {
          "output_type": "display_data",
          "data": {
            "text/html": [
              "<div style=\"display:flex;flex-direction:row;\"><span>dis_train_loop</span><progress style='margin:2px 4px;description_width:initial;' max='3' value='3'></progress>100% 3/3 [00:00&lt;00:00,  9.62it/s]</div>"
            ],
            "text/plain": [
              "<tqdm._fake_ipywidgets.HBox object>"
            ]
          },
          "metadata": {
            "tags": []
          }
        },
        {
          "output_type": "stream",
          "text": [
            "d_summary: loss=0.043, accuracy=1.000\n"
          ],
          "name": "stdout"
        },
        {
          "output_type": "display_data",
          "data": {
            "text/html": [
              "<div style=\"display:flex;flex-direction:row;\"><span>dis_train_loop</span><progress style='margin:2px 4px;description_width:initial;' max='3' value='3'></progress>100% 3/3 [00:00&lt;00:00, 10.20it/s]</div>"
            ],
            "text/plain": [
              "<tqdm._fake_ipywidgets.HBox object>"
            ]
          },
          "metadata": {
            "tags": []
          }
        },
        {
          "output_type": "stream",
          "text": [
            "d_summary: loss=0.040, accuracy=1.000\n",
            "                                        text fake\n",
            "9214         de moranbah iii grows theodore     1\n",
            "9215  sun wellard wendouree paceman guineas     1\n",
            "g_summary: loss=12.515, reward=0.153\n"
          ],
          "name": "stdout"
        },
        {
          "output_type": "display_data",
          "data": {
            "text/html": [
              "<div style=\"display:flex;flex-direction:row;\"><span>gen_train_loop</span><progress style='margin:2px 4px;description_width:initial;' max='5' value='5'></progress>100% 5/5 [00:33&lt;00:00,  6.71s/it]</div>"
            ],
            "text/plain": [
              "<tqdm._fake_ipywidgets.HBox object>"
            ]
          },
          "metadata": {
            "tags": []
          }
        },
        {
          "output_type": "display_data",
          "data": {
            "text/html": [
              "<div style=\"display:flex;flex-direction:row;\"><span>dis_train_loop</span><progress style='margin:2px 4px;description_width:initial;' max='3' value='3'></progress>100% 3/3 [00:00&lt;00:00, 10.13it/s]</div>"
            ],
            "text/plain": [
              "<tqdm._fake_ipywidgets.HBox object>"
            ]
          },
          "metadata": {
            "tags": []
          }
        },
        {
          "output_type": "stream",
          "text": [
            "d_summary: loss=0.067, accuracy=0.984\n"
          ],
          "name": "stdout"
        },
        {
          "output_type": "display_data",
          "data": {
            "text/html": [
              "<div style=\"display:flex;flex-direction:row;\"><span>dis_train_loop</span><progress style='margin:2px 4px;description_width:initial;' max='3' value='3'></progress>100% 3/3 [00:00&lt;00:00, 10.22it/s]</div>"
            ],
            "text/plain": [
              "<tqdm._fake_ipywidgets.HBox object>"
            ]
          },
          "metadata": {
            "tags": []
          }
        },
        {
          "output_type": "stream",
          "text": [
            "d_summary: loss=0.131, accuracy=0.984\n"
          ],
          "name": "stdout"
        },
        {
          "output_type": "display_data",
          "data": {
            "text/html": [
              "<div style=\"display:flex;flex-direction:row;\"><span>dis_train_loop</span><progress style='margin:2px 4px;description_width:initial;' max='3' value='3'></progress>100% 3/3 [00:00&lt;00:00,  9.91it/s]</div>"
            ],
            "text/plain": [
              "<tqdm._fake_ipywidgets.HBox object>"
            ]
          },
          "metadata": {
            "tags": []
          }
        },
        {
          "output_type": "stream",
          "text": [
            "d_summary: loss=0.077, accuracy=0.984\n"
          ],
          "name": "stdout"
        },
        {
          "output_type": "display_data",
          "data": {
            "text/html": [
              "<div style=\"display:flex;flex-direction:row;\"><span>dis_train_loop</span><progress style='margin:2px 4px;description_width:initial;' max='3' value='3'></progress>100% 3/3 [00:00&lt;00:00,  9.83it/s]</div>"
            ],
            "text/plain": [
              "<tqdm._fake_ipywidgets.HBox object>"
            ]
          },
          "metadata": {
            "tags": []
          }
        },
        {
          "output_type": "stream",
          "text": [
            "d_summary: loss=0.067, accuracy=0.984\n"
          ],
          "name": "stdout"
        },
        {
          "output_type": "display_data",
          "data": {
            "text/html": [
              "<div style=\"display:flex;flex-direction:row;\"><span>dis_train_loop</span><progress style='margin:2px 4px;description_width:initial;' max='3' value='3'></progress>100% 3/3 [00:00&lt;00:00, 10.01it/s]</div>"
            ],
            "text/plain": [
              "<tqdm._fake_ipywidgets.HBox object>"
            ]
          },
          "metadata": {
            "tags": []
          }
        },
        {
          "output_type": "stream",
          "text": [
            "d_summary: loss=0.086, accuracy=0.969\n",
            "                                                   text fake\n",
            "9598  pathologist investigates detentions dashes emily     1\n",
            "9599      apologies suspects ceremony emily federalism     1\n",
            "g_summary: loss=11.927, reward=0.363\n"
          ],
          "name": "stdout"
        },
        {
          "output_type": "display_data",
          "data": {
            "text/html": [
              "<div style=\"display:flex;flex-direction:row;\"><span>gen_train_loop</span><progress style='margin:2px 4px;description_width:initial;' max='5' value='5'></progress>100% 5/5 [00:33&lt;00:00,  6.68s/it]</div>"
            ],
            "text/plain": [
              "<tqdm._fake_ipywidgets.HBox object>"
            ]
          },
          "metadata": {
            "tags": []
          }
        },
        {
          "output_type": "display_data",
          "data": {
            "text/html": [
              "<div style=\"display:flex;flex-direction:row;\"><span>dis_train_loop</span><progress style='margin:2px 4px;description_width:initial;' max='3' value='3'></progress>100% 3/3 [00:00&lt;00:00, 10.11it/s]</div>"
            ],
            "text/plain": [
              "<tqdm._fake_ipywidgets.HBox object>"
            ]
          },
          "metadata": {
            "tags": []
          }
        },
        {
          "output_type": "stream",
          "text": [
            "d_summary: loss=0.360, accuracy=0.969\n"
          ],
          "name": "stdout"
        },
        {
          "output_type": "display_data",
          "data": {
            "text/html": [
              "<div style=\"display:flex;flex-direction:row;\"><span>dis_train_loop</span><progress style='margin:2px 4px;description_width:initial;' max='3' value='3'></progress>100% 3/3 [00:00&lt;00:00,  9.55it/s]</div>"
            ],
            "text/plain": [
              "<tqdm._fake_ipywidgets.HBox object>"
            ]
          },
          "metadata": {
            "tags": []
          }
        },
        {
          "output_type": "stream",
          "text": [
            "d_summary: loss=0.045, accuracy=1.000\n"
          ],
          "name": "stdout"
        },
        {
          "output_type": "display_data",
          "data": {
            "text/html": [
              "<div style=\"display:flex;flex-direction:row;\"><span>dis_train_loop</span><progress style='margin:2px 4px;description_width:initial;' max='3' value='3'></progress>100% 3/3 [00:00&lt;00:00, 10.28it/s]</div>"
            ],
            "text/plain": [
              "<tqdm._fake_ipywidgets.HBox object>"
            ]
          },
          "metadata": {
            "tags": []
          }
        },
        {
          "output_type": "stream",
          "text": [
            "d_summary: loss=0.047, accuracy=1.000\n"
          ],
          "name": "stdout"
        },
        {
          "output_type": "display_data",
          "data": {
            "text/html": [
              "<div style=\"display:flex;flex-direction:row;\"><span>dis_train_loop</span><progress style='margin:2px 4px;description_width:initial;' max='3' value='3'></progress>100% 3/3 [00:00&lt;00:00, 10.05it/s]</div>"
            ],
            "text/plain": [
              "<tqdm._fake_ipywidgets.HBox object>"
            ]
          },
          "metadata": {
            "tags": []
          }
        },
        {
          "output_type": "stream",
          "text": [
            "d_summary: loss=0.079, accuracy=0.969\n"
          ],
          "name": "stdout"
        },
        {
          "output_type": "display_data",
          "data": {
            "text/html": [
              "<div style=\"display:flex;flex-direction:row;\"><span>dis_train_loop</span><progress style='margin:2px 4px;description_width:initial;' max='3' value='3'></progress>100% 3/3 [00:00&lt;00:00, 10.35it/s]</div>"
            ],
            "text/plain": [
              "<tqdm._fake_ipywidgets.HBox object>"
            ]
          },
          "metadata": {
            "tags": []
          }
        },
        {
          "output_type": "stream",
          "text": [
            "d_summary: loss=0.043, accuracy=1.000\n",
            "                                                 text fake\n",
            "9982          pineapples 0511 muchea hivaids lebanon     1\n",
            "9983  schoolgirl celebrations maximum agenda unhappy     1\n",
            "g_summary: loss=12.093, reward=0.346\n"
          ],
          "name": "stdout"
        },
        {
          "output_type": "display_data",
          "data": {
            "text/html": [
              "<div style=\"display:flex;flex-direction:row;\"><span>gen_train_loop</span><progress style='margin:2px 4px;description_width:initial;' max='5' value='5'></progress>100% 5/5 [00:33&lt;00:00,  6.68s/it]</div>"
            ],
            "text/plain": [
              "<tqdm._fake_ipywidgets.HBox object>"
            ]
          },
          "metadata": {
            "tags": []
          }
        },
        {
          "output_type": "display_data",
          "data": {
            "text/html": [
              "<div style=\"display:flex;flex-direction:row;\"><span>dis_train_loop</span><progress style='margin:2px 4px;description_width:initial;' max='3' value='3'></progress>100% 3/3 [00:00&lt;00:00,  9.70it/s]</div>"
            ],
            "text/plain": [
              "<tqdm._fake_ipywidgets.HBox object>"
            ]
          },
          "metadata": {
            "tags": []
          }
        },
        {
          "output_type": "stream",
          "text": [
            "d_summary: loss=0.053, accuracy=1.000\n"
          ],
          "name": "stdout"
        },
        {
          "output_type": "display_data",
          "data": {
            "text/html": [
              "<div style=\"display:flex;flex-direction:row;\"><span>dis_train_loop</span><progress style='margin:2px 4px;description_width:initial;' max='3' value='3'></progress>100% 3/3 [00:00&lt;00:00, 10.22it/s]</div>"
            ],
            "text/plain": [
              "<tqdm._fake_ipywidgets.HBox object>"
            ]
          },
          "metadata": {
            "tags": []
          }
        },
        {
          "output_type": "stream",
          "text": [
            "d_summary: loss=0.115, accuracy=0.984\n"
          ],
          "name": "stdout"
        },
        {
          "output_type": "display_data",
          "data": {
            "text/html": [
              "<div style=\"display:flex;flex-direction:row;\"><span>dis_train_loop</span><progress style='margin:2px 4px;description_width:initial;' max='3' value='3'></progress>100% 3/3 [00:00&lt;00:00,  9.72it/s]</div>"
            ],
            "text/plain": [
              "<tqdm._fake_ipywidgets.HBox object>"
            ]
          },
          "metadata": {
            "tags": []
          }
        },
        {
          "output_type": "stream",
          "text": [
            "d_summary: loss=0.162, accuracy=0.984\n"
          ],
          "name": "stdout"
        },
        {
          "output_type": "display_data",
          "data": {
            "text/html": [
              "<div style=\"display:flex;flex-direction:row;\"><span>dis_train_loop</span><progress style='margin:2px 4px;description_width:initial;' max='3' value='3'></progress>100% 3/3 [00:00&lt;00:00, 10.48it/s]</div>"
            ],
            "text/plain": [
              "<tqdm._fake_ipywidgets.HBox object>"
            ]
          },
          "metadata": {
            "tags": []
          }
        },
        {
          "output_type": "stream",
          "text": [
            "d_summary: loss=0.049, accuracy=1.000\n"
          ],
          "name": "stdout"
        },
        {
          "output_type": "display_data",
          "data": {
            "text/html": [
              "<div style=\"display:flex;flex-direction:row;\"><span>dis_train_loop</span><progress style='margin:2px 4px;description_width:initial;' max='3' value='3'></progress>100% 3/3 [00:00&lt;00:00,  9.92it/s]</div>"
            ],
            "text/plain": [
              "<tqdm._fake_ipywidgets.HBox object>"
            ]
          },
          "metadata": {
            "tags": []
          }
        },
        {
          "output_type": "stream",
          "text": [
            "d_summary: loss=0.034, accuracy=1.000\n",
            "                                           text fake\n",
            "10366        silverton see ones jockeys ousted     1\n",
            "10367  eradicating wagga paddle proof snowtown     1\n",
            "g_summary: loss=12.019, reward=0.341\n"
          ],
          "name": "stdout"
        },
        {
          "output_type": "display_data",
          "data": {
            "text/html": [
              "<div style=\"display:flex;flex-direction:row;\"><span>gen_train_loop</span><progress style='margin:2px 4px;description_width:initial;' max='5' value='5'></progress>100% 5/5 [00:33&lt;00:00,  6.67s/it]</div>"
            ],
            "text/plain": [
              "<tqdm._fake_ipywidgets.HBox object>"
            ]
          },
          "metadata": {
            "tags": []
          }
        },
        {
          "output_type": "display_data",
          "data": {
            "text/html": [
              "<div style=\"display:flex;flex-direction:row;\"><span>dis_train_loop</span><progress style='margin:2px 4px;description_width:initial;' max='3' value='3'></progress>100% 3/3 [00:00&lt;00:00, 10.30it/s]</div>"
            ],
            "text/plain": [
              "<tqdm._fake_ipywidgets.HBox object>"
            ]
          },
          "metadata": {
            "tags": []
          }
        },
        {
          "output_type": "stream",
          "text": [
            "d_summary: loss=0.075, accuracy=0.969\n"
          ],
          "name": "stdout"
        },
        {
          "output_type": "display_data",
          "data": {
            "text/html": [
              "<div style=\"display:flex;flex-direction:row;\"><span>dis_train_loop</span><progress style='margin:2px 4px;description_width:initial;' max='3' value='3'></progress>100% 3/3 [00:00&lt;00:00,  9.95it/s]</div>"
            ],
            "text/plain": [
              "<tqdm._fake_ipywidgets.HBox object>"
            ]
          },
          "metadata": {
            "tags": []
          }
        },
        {
          "output_type": "stream",
          "text": [
            "d_summary: loss=0.053, accuracy=1.000\n"
          ],
          "name": "stdout"
        },
        {
          "output_type": "display_data",
          "data": {
            "text/html": [
              "<div style=\"display:flex;flex-direction:row;\"><span>dis_train_loop</span><progress style='margin:2px 4px;description_width:initial;' max='3' value='3'></progress>100% 3/3 [00:00&lt;00:00,  9.95it/s]</div>"
            ],
            "text/plain": [
              "<tqdm._fake_ipywidgets.HBox object>"
            ]
          },
          "metadata": {
            "tags": []
          }
        },
        {
          "output_type": "stream",
          "text": [
            "d_summary: loss=0.057, accuracy=0.984\n"
          ],
          "name": "stdout"
        },
        {
          "output_type": "display_data",
          "data": {
            "text/html": [
              "<div style=\"display:flex;flex-direction:row;\"><span>dis_train_loop</span><progress style='margin:2px 4px;description_width:initial;' max='3' value='3'></progress>100% 3/3 [00:00&lt;00:00, 10.11it/s]</div>"
            ],
            "text/plain": [
              "<tqdm._fake_ipywidgets.HBox object>"
            ]
          },
          "metadata": {
            "tags": []
          }
        },
        {
          "output_type": "stream",
          "text": [
            "d_summary: loss=0.042, accuracy=1.000\n"
          ],
          "name": "stdout"
        },
        {
          "output_type": "display_data",
          "data": {
            "text/html": [
              "<div style=\"display:flex;flex-direction:row;\"><span>dis_train_loop</span><progress style='margin:2px 4px;description_width:initial;' max='3' value='3'></progress>100% 3/3 [00:00&lt;00:00,  9.22it/s]</div>"
            ],
            "text/plain": [
              "<tqdm._fake_ipywidgets.HBox object>"
            ]
          },
          "metadata": {
            "tags": []
          }
        },
        {
          "output_type": "stream",
          "text": [
            "d_summary: loss=0.037, accuracy=1.000\n",
            "                                                    text fake\n",
            "10750         focarelli bales jumping murderers hivaids     1\n",
            "10751  reunification vehicle calare disappoint snowfa...    1\n",
            "g_summary: loss=12.561, reward=0.374\n"
          ],
          "name": "stdout"
        },
        {
          "output_type": "display_data",
          "data": {
            "text/html": [
              "<div style=\"display:flex;flex-direction:row;\"><span>gen_train_loop</span><progress style='margin:2px 4px;description_width:initial;' max='5' value='5'></progress>100% 5/5 [00:33&lt;00:00,  6.70s/it]</div>"
            ],
            "text/plain": [
              "<tqdm._fake_ipywidgets.HBox object>"
            ]
          },
          "metadata": {
            "tags": []
          }
        },
        {
          "output_type": "display_data",
          "data": {
            "text/html": [
              "<div style=\"display:flex;flex-direction:row;\"><span>dis_train_loop</span><progress style='margin:2px 4px;description_width:initial;' max='3' value='3'></progress>100% 3/3 [00:00&lt;00:00,  9.91it/s]</div>"
            ],
            "text/plain": [
              "<tqdm._fake_ipywidgets.HBox object>"
            ]
          },
          "metadata": {
            "tags": []
          }
        },
        {
          "output_type": "stream",
          "text": [
            "d_summary: loss=0.045, accuracy=1.000\n"
          ],
          "name": "stdout"
        },
        {
          "output_type": "display_data",
          "data": {
            "text/html": [
              "<div style=\"display:flex;flex-direction:row;\"><span>dis_train_loop</span><progress style='margin:2px 4px;description_width:initial;' max='3' value='3'></progress>100% 3/3 [00:00&lt;00:00, 10.12it/s]</div>"
            ],
            "text/plain": [
              "<tqdm._fake_ipywidgets.HBox object>"
            ]
          },
          "metadata": {
            "tags": []
          }
        },
        {
          "output_type": "stream",
          "text": [
            "d_summary: loss=0.054, accuracy=1.000\n"
          ],
          "name": "stdout"
        },
        {
          "output_type": "display_data",
          "data": {
            "text/html": [
              "<div style=\"display:flex;flex-direction:row;\"><span>dis_train_loop</span><progress style='margin:2px 4px;description_width:initial;' max='3' value='3'></progress>100% 3/3 [00:00&lt;00:00, 10.18it/s]</div>"
            ],
            "text/plain": [
              "<tqdm._fake_ipywidgets.HBox object>"
            ]
          },
          "metadata": {
            "tags": []
          }
        },
        {
          "output_type": "stream",
          "text": [
            "d_summary: loss=0.137, accuracy=0.969\n"
          ],
          "name": "stdout"
        },
        {
          "output_type": "display_data",
          "data": {
            "text/html": [
              "<div style=\"display:flex;flex-direction:row;\"><span>dis_train_loop</span><progress style='margin:2px 4px;description_width:initial;' max='3' value='3'></progress>100% 3/3 [00:00&lt;00:00, 10.07it/s]</div>"
            ],
            "text/plain": [
              "<tqdm._fake_ipywidgets.HBox object>"
            ]
          },
          "metadata": {
            "tags": []
          }
        },
        {
          "output_type": "stream",
          "text": [
            "d_summary: loss=0.127, accuracy=0.969\n"
          ],
          "name": "stdout"
        },
        {
          "output_type": "display_data",
          "data": {
            "text/html": [
              "<div style=\"display:flex;flex-direction:row;\"><span>dis_train_loop</span><progress style='margin:2px 4px;description_width:initial;' max='3' value='3'></progress>100% 3/3 [00:00&lt;00:00,  9.82it/s]</div>"
            ],
            "text/plain": [
              "<tqdm._fake_ipywidgets.HBox object>"
            ]
          },
          "metadata": {
            "tags": []
          }
        },
        {
          "output_type": "stream",
          "text": [
            "d_summary: loss=0.041, accuracy=1.000\n",
            "                                           text fake\n",
            "11134    charging stern foodbank guineas walks     1\n",
            "11135  hivaids chapman segeyaro junee gridlock     1\n",
            "g_summary: loss=12.519, reward=0.408\n"
          ],
          "name": "stdout"
        },
        {
          "output_type": "display_data",
          "data": {
            "text/html": [
              "<div style=\"display:flex;flex-direction:row;\"><span>gen_train_loop</span><progress style='margin:2px 4px;description_width:initial;' max='5' value='5'></progress>100% 5/5 [00:33&lt;00:00,  6.71s/it]</div>"
            ],
            "text/plain": [
              "<tqdm._fake_ipywidgets.HBox object>"
            ]
          },
          "metadata": {
            "tags": []
          }
        },
        {
          "output_type": "display_data",
          "data": {
            "text/html": [
              "<div style=\"display:flex;flex-direction:row;\"><span>dis_train_loop</span><progress style='margin:2px 4px;description_width:initial;' max='3' value='3'></progress>100% 3/3 [00:00&lt;00:00, 10.29it/s]</div>"
            ],
            "text/plain": [
              "<tqdm._fake_ipywidgets.HBox object>"
            ]
          },
          "metadata": {
            "tags": []
          }
        },
        {
          "output_type": "stream",
          "text": [
            "d_summary: loss=0.040, accuracy=1.000\n"
          ],
          "name": "stdout"
        },
        {
          "output_type": "display_data",
          "data": {
            "text/html": [
              "<div style=\"display:flex;flex-direction:row;\"><span>dis_train_loop</span><progress style='margin:2px 4px;description_width:initial;' max='3' value='3'></progress>100% 3/3 [00:00&lt;00:00,  9.89it/s]</div>"
            ],
            "text/plain": [
              "<tqdm._fake_ipywidgets.HBox object>"
            ]
          },
          "metadata": {
            "tags": []
          }
        },
        {
          "output_type": "stream",
          "text": [
            "d_summary: loss=0.279, accuracy=0.953\n"
          ],
          "name": "stdout"
        },
        {
          "output_type": "display_data",
          "data": {
            "text/html": [
              "<div style=\"display:flex;flex-direction:row;\"><span>dis_train_loop</span><progress style='margin:2px 4px;description_width:initial;' max='3' value='3'></progress>100% 3/3 [00:00&lt;00:00,  9.83it/s]</div>"
            ],
            "text/plain": [
              "<tqdm._fake_ipywidgets.HBox object>"
            ]
          },
          "metadata": {
            "tags": []
          }
        },
        {
          "output_type": "stream",
          "text": [
            "d_summary: loss=0.131, accuracy=0.984\n"
          ],
          "name": "stdout"
        },
        {
          "output_type": "display_data",
          "data": {
            "text/html": [
              "<div style=\"display:flex;flex-direction:row;\"><span>dis_train_loop</span><progress style='margin:2px 4px;description_width:initial;' max='3' value='3'></progress>100% 3/3 [00:00&lt;00:00,  9.73it/s]</div>"
            ],
            "text/plain": [
              "<tqdm._fake_ipywidgets.HBox object>"
            ]
          },
          "metadata": {
            "tags": []
          }
        },
        {
          "output_type": "stream",
          "text": [
            "d_summary: loss=0.046, accuracy=1.000\n"
          ],
          "name": "stdout"
        },
        {
          "output_type": "display_data",
          "data": {
            "text/html": [
              "<div style=\"display:flex;flex-direction:row;\"><span>dis_train_loop</span><progress style='margin:2px 4px;description_width:initial;' max='3' value='3'></progress>100% 3/3 [00:00&lt;00:00,  9.65it/s]</div>"
            ],
            "text/plain": [
              "<tqdm._fake_ipywidgets.HBox object>"
            ]
          },
          "metadata": {
            "tags": []
          }
        },
        {
          "output_type": "stream",
          "text": [
            "d_summary: loss=0.048, accuracy=1.000\n",
            "                                       text fake\n",
            "11518  approves thailands do alcopop gavin     1\n",
            "11519     chestnut angela chaplin great dv     1\n",
            "g_summary: loss=11.874, reward=0.234\n"
          ],
          "name": "stdout"
        },
        {
          "output_type": "display_data",
          "data": {
            "text/html": [
              "<div style=\"display:flex;flex-direction:row;\"><span>gen_train_loop</span><progress style='margin:2px 4px;description_width:initial;' max='5' value='5'></progress>100% 5/5 [00:33&lt;00:00,  6.73s/it]</div>"
            ],
            "text/plain": [
              "<tqdm._fake_ipywidgets.HBox object>"
            ]
          },
          "metadata": {
            "tags": []
          }
        },
        {
          "output_type": "display_data",
          "data": {
            "text/html": [
              "<div style=\"display:flex;flex-direction:row;\"><span>dis_train_loop</span><progress style='margin:2px 4px;description_width:initial;' max='3' value='3'></progress>100% 3/3 [00:00&lt;00:00, 10.13it/s]</div>"
            ],
            "text/plain": [
              "<tqdm._fake_ipywidgets.HBox object>"
            ]
          },
          "metadata": {
            "tags": []
          }
        },
        {
          "output_type": "stream",
          "text": [
            "d_summary: loss=0.050, accuracy=1.000\n"
          ],
          "name": "stdout"
        },
        {
          "output_type": "display_data",
          "data": {
            "text/html": [
              "<div style=\"display:flex;flex-direction:row;\"><span>dis_train_loop</span><progress style='margin:2px 4px;description_width:initial;' max='3' value='3'></progress>100% 3/3 [00:00&lt;00:00, 10.05it/s]</div>"
            ],
            "text/plain": [
              "<tqdm._fake_ipywidgets.HBox object>"
            ]
          },
          "metadata": {
            "tags": []
          }
        },
        {
          "output_type": "stream",
          "text": [
            "d_summary: loss=0.237, accuracy=0.969\n"
          ],
          "name": "stdout"
        },
        {
          "output_type": "display_data",
          "data": {
            "text/html": [
              "<div style=\"display:flex;flex-direction:row;\"><span>dis_train_loop</span><progress style='margin:2px 4px;description_width:initial;' max='3' value='3'></progress>100% 3/3 [00:00&lt;00:00,  9.97it/s]</div>"
            ],
            "text/plain": [
              "<tqdm._fake_ipywidgets.HBox object>"
            ]
          },
          "metadata": {
            "tags": []
          }
        },
        {
          "output_type": "stream",
          "text": [
            "d_summary: loss=0.056, accuracy=1.000\n"
          ],
          "name": "stdout"
        },
        {
          "output_type": "display_data",
          "data": {
            "text/html": [
              "<div style=\"display:flex;flex-direction:row;\"><span>dis_train_loop</span><progress style='margin:2px 4px;description_width:initial;' max='3' value='3'></progress>100% 3/3 [00:00&lt;00:00,  9.88it/s]</div>"
            ],
            "text/plain": [
              "<tqdm._fake_ipywidgets.HBox object>"
            ]
          },
          "metadata": {
            "tags": []
          }
        },
        {
          "output_type": "stream",
          "text": [
            "d_summary: loss=0.087, accuracy=0.969\n"
          ],
          "name": "stdout"
        },
        {
          "output_type": "display_data",
          "data": {
            "text/html": [
              "<div style=\"display:flex;flex-direction:row;\"><span>dis_train_loop</span><progress style='margin:2px 4px;description_width:initial;' max='3' value='3'></progress>100% 3/3 [00:00&lt;00:00,  9.87it/s]</div>"
            ],
            "text/plain": [
              "<tqdm._fake_ipywidgets.HBox object>"
            ]
          },
          "metadata": {
            "tags": []
          }
        },
        {
          "output_type": "stream",
          "text": [
            "d_summary: loss=0.059, accuracy=1.000\n",
            "                                         text fake\n",
            "11902  iraqs remove menaces piggery immelman     1\n",
            "11903      isa tredrea lapkin trigger modest     1\n",
            "g_summary: loss=12.136, reward=0.231\n"
          ],
          "name": "stdout"
        },
        {
          "output_type": "display_data",
          "data": {
            "text/html": [
              "<div style=\"display:flex;flex-direction:row;\"><span>gen_train_loop</span><progress style='margin:2px 4px;description_width:initial;' max='5' value='5'></progress>100% 5/5 [00:33&lt;00:00,  6.69s/it]</div>"
            ],
            "text/plain": [
              "<tqdm._fake_ipywidgets.HBox object>"
            ]
          },
          "metadata": {
            "tags": []
          }
        },
        {
          "output_type": "display_data",
          "data": {
            "text/html": [
              "<div style=\"display:flex;flex-direction:row;\"><span>dis_train_loop</span><progress style='margin:2px 4px;description_width:initial;' max='3' value='3'></progress>100% 3/3 [00:00&lt;00:00,  9.95it/s]</div>"
            ],
            "text/plain": [
              "<tqdm._fake_ipywidgets.HBox object>"
            ]
          },
          "metadata": {
            "tags": []
          }
        },
        {
          "output_type": "stream",
          "text": [
            "d_summary: loss=0.225, accuracy=0.938\n"
          ],
          "name": "stdout"
        },
        {
          "output_type": "display_data",
          "data": {
            "text/html": [
              "<div style=\"display:flex;flex-direction:row;\"><span>dis_train_loop</span><progress style='margin:2px 4px;description_width:initial;' max='3' value='3'></progress>100% 3/3 [00:00&lt;00:00, 10.33it/s]</div>"
            ],
            "text/plain": [
              "<tqdm._fake_ipywidgets.HBox object>"
            ]
          },
          "metadata": {
            "tags": []
          }
        },
        {
          "output_type": "stream",
          "text": [
            "d_summary: loss=0.060, accuracy=1.000\n"
          ],
          "name": "stdout"
        },
        {
          "output_type": "display_data",
          "data": {
            "text/html": [
              "<div style=\"display:flex;flex-direction:row;\"><span>dis_train_loop</span><progress style='margin:2px 4px;description_width:initial;' max='3' value='3'></progress>100% 3/3 [00:00&lt;00:00,  9.49it/s]</div>"
            ],
            "text/plain": [
              "<tqdm._fake_ipywidgets.HBox object>"
            ]
          },
          "metadata": {
            "tags": []
          }
        },
        {
          "output_type": "stream",
          "text": [
            "d_summary: loss=0.055, accuracy=1.000\n"
          ],
          "name": "stdout"
        },
        {
          "output_type": "display_data",
          "data": {
            "text/html": [
              "<div style=\"display:flex;flex-direction:row;\"><span>dis_train_loop</span><progress style='margin:2px 4px;description_width:initial;' max='3' value='3'></progress>100% 3/3 [00:00&lt;00:00,  9.98it/s]</div>"
            ],
            "text/plain": [
              "<tqdm._fake_ipywidgets.HBox object>"
            ]
          },
          "metadata": {
            "tags": []
          }
        },
        {
          "output_type": "stream",
          "text": [
            "d_summary: loss=0.120, accuracy=0.969\n"
          ],
          "name": "stdout"
        },
        {
          "output_type": "display_data",
          "data": {
            "text/html": [
              "<div style=\"display:flex;flex-direction:row;\"><span>dis_train_loop</span><progress style='margin:2px 4px;description_width:initial;' max='3' value='3'></progress>100% 3/3 [00:00&lt;00:00, 10.13it/s]</div>"
            ],
            "text/plain": [
              "<tqdm._fake_ipywidgets.HBox object>"
            ]
          },
          "metadata": {
            "tags": []
          }
        },
        {
          "output_type": "stream",
          "text": [
            "d_summary: loss=0.051, accuracy=1.000\n",
            "                                              text fake\n",
            "12286                bet twitter header bowen nts     1\n",
            "12287  slower fed tarcutta humiliated attractions     1\n",
            "g_summary: loss=11.852, reward=0.564\n"
          ],
          "name": "stdout"
        },
        {
          "output_type": "display_data",
          "data": {
            "text/html": [
              "<div style=\"display:flex;flex-direction:row;\"><span>gen_train_loop</span><progress style='margin:2px 4px;description_width:initial;' max='5' value='5'></progress>100% 5/5 [00:34&lt;00:00,  6.84s/it]</div>"
            ],
            "text/plain": [
              "<tqdm._fake_ipywidgets.HBox object>"
            ]
          },
          "metadata": {
            "tags": []
          }
        },
        {
          "output_type": "display_data",
          "data": {
            "text/html": [
              "<div style=\"display:flex;flex-direction:row;\"><span>dis_train_loop</span><progress style='margin:2px 4px;description_width:initial;' max='3' value='3'></progress>100% 3/3 [00:00&lt;00:00,  9.74it/s]</div>"
            ],
            "text/plain": [
              "<tqdm._fake_ipywidgets.HBox object>"
            ]
          },
          "metadata": {
            "tags": []
          }
        },
        {
          "output_type": "stream",
          "text": [
            "d_summary: loss=0.074, accuracy=0.984\n"
          ],
          "name": "stdout"
        },
        {
          "output_type": "display_data",
          "data": {
            "text/html": [
              "<div style=\"display:flex;flex-direction:row;\"><span>dis_train_loop</span><progress style='margin:2px 4px;description_width:initial;' max='3' value='3'></progress>100% 3/3 [00:00&lt;00:00,  9.95it/s]</div>"
            ],
            "text/plain": [
              "<tqdm._fake_ipywidgets.HBox object>"
            ]
          },
          "metadata": {
            "tags": []
          }
        },
        {
          "output_type": "stream",
          "text": [
            "d_summary: loss=0.073, accuracy=0.984\n"
          ],
          "name": "stdout"
        },
        {
          "output_type": "display_data",
          "data": {
            "text/html": [
              "<div style=\"display:flex;flex-direction:row;\"><span>dis_train_loop</span><progress style='margin:2px 4px;description_width:initial;' max='3' value='3'></progress>100% 3/3 [00:00&lt;00:00, 10.18it/s]</div>"
            ],
            "text/plain": [
              "<tqdm._fake_ipywidgets.HBox object>"
            ]
          },
          "metadata": {
            "tags": []
          }
        },
        {
          "output_type": "stream",
          "text": [
            "d_summary: loss=0.191, accuracy=0.969\n"
          ],
          "name": "stdout"
        },
        {
          "output_type": "display_data",
          "data": {
            "text/html": [
              "<div style=\"display:flex;flex-direction:row;\"><span>dis_train_loop</span><progress style='margin:2px 4px;description_width:initial;' max='3' value='3'></progress>100% 3/3 [00:00&lt;00:00,  9.80it/s]</div>"
            ],
            "text/plain": [
              "<tqdm._fake_ipywidgets.HBox object>"
            ]
          },
          "metadata": {
            "tags": []
          }
        },
        {
          "output_type": "stream",
          "text": [
            "d_summary: loss=0.073, accuracy=0.984\n"
          ],
          "name": "stdout"
        },
        {
          "output_type": "display_data",
          "data": {
            "text/html": [
              "<div style=\"display:flex;flex-direction:row;\"><span>dis_train_loop</span><progress style='margin:2px 4px;description_width:initial;' max='3' value='3'></progress>100% 3/3 [00:00&lt;00:00,  9.92it/s]</div>"
            ],
            "text/plain": [
              "<tqdm._fake_ipywidgets.HBox object>"
            ]
          },
          "metadata": {
            "tags": []
          }
        },
        {
          "output_type": "stream",
          "text": [
            "d_summary: loss=0.063, accuracy=1.000\n",
            "                                                 text fake\n",
            "12670             merger nabbed mua strategy kirsten     1\n",
            "12671  spectator vukovic overcrowded wholesale share     1\n",
            "g_summary: loss=12.104, reward=0.338\n"
          ],
          "name": "stdout"
        },
        {
          "output_type": "display_data",
          "data": {
            "text/html": [
              "<div style=\"display:flex;flex-direction:row;\"><span>gen_train_loop</span><progress style='margin:2px 4px;description_width:initial;' max='5' value='5'></progress>100% 5/5 [00:33&lt;00:00,  6.74s/it]</div>"
            ],
            "text/plain": [
              "<tqdm._fake_ipywidgets.HBox object>"
            ]
          },
          "metadata": {
            "tags": []
          }
        },
        {
          "output_type": "display_data",
          "data": {
            "text/html": [
              "<div style=\"display:flex;flex-direction:row;\"><span>dis_train_loop</span><progress style='margin:2px 4px;description_width:initial;' max='3' value='3'></progress>100% 3/3 [00:00&lt;00:00,  9.29it/s]</div>"
            ],
            "text/plain": [
              "<tqdm._fake_ipywidgets.HBox object>"
            ]
          },
          "metadata": {
            "tags": []
          }
        },
        {
          "output_type": "stream",
          "text": [
            "d_summary: loss=0.068, accuracy=1.000\n"
          ],
          "name": "stdout"
        },
        {
          "output_type": "display_data",
          "data": {
            "text/html": [
              "<div style=\"display:flex;flex-direction:row;\"><span>dis_train_loop</span><progress style='margin:2px 4px;description_width:initial;' max='3' value='3'></progress>100% 3/3 [00:00&lt;00:00, 10.03it/s]</div>"
            ],
            "text/plain": [
              "<tqdm._fake_ipywidgets.HBox object>"
            ]
          },
          "metadata": {
            "tags": []
          }
        },
        {
          "output_type": "stream",
          "text": [
            "d_summary: loss=0.123, accuracy=0.984\n"
          ],
          "name": "stdout"
        },
        {
          "output_type": "display_data",
          "data": {
            "text/html": [
              "<div style=\"display:flex;flex-direction:row;\"><span>dis_train_loop</span><progress style='margin:2px 4px;description_width:initial;' max='3' value='3'></progress>100% 3/3 [00:00&lt;00:00, 10.26it/s]</div>"
            ],
            "text/plain": [
              "<tqdm._fake_ipywidgets.HBox object>"
            ]
          },
          "metadata": {
            "tags": []
          }
        },
        {
          "output_type": "stream",
          "text": [
            "d_summary: loss=0.068, accuracy=0.984\n"
          ],
          "name": "stdout"
        },
        {
          "output_type": "display_data",
          "data": {
            "text/html": [
              "<div style=\"display:flex;flex-direction:row;\"><span>dis_train_loop</span><progress style='margin:2px 4px;description_width:initial;' max='3' value='3'></progress>100% 3/3 [00:00&lt;00:00,  9.19it/s]</div>"
            ],
            "text/plain": [
              "<tqdm._fake_ipywidgets.HBox object>"
            ]
          },
          "metadata": {
            "tags": []
          }
        },
        {
          "output_type": "stream",
          "text": [
            "d_summary: loss=0.054, accuracy=1.000\n"
          ],
          "name": "stdout"
        },
        {
          "output_type": "display_data",
          "data": {
            "text/html": [
              "<div style=\"display:flex;flex-direction:row;\"><span>dis_train_loop</span><progress style='margin:2px 4px;description_width:initial;' max='3' value='3'></progress>100% 3/3 [00:00&lt;00:00, 10.16it/s]</div>"
            ],
            "text/plain": [
              "<tqdm._fake_ipywidgets.HBox object>"
            ]
          },
          "metadata": {
            "tags": []
          }
        },
        {
          "output_type": "stream",
          "text": [
            "d_summary: loss=0.176, accuracy=0.984\n",
            "                                                 text fake\n",
            "13054           surf stricker stricker thought emily     1\n",
            "13055  carpenter portugal sustainable chaplin remove     1\n",
            "g_summary: loss=11.703, reward=0.201\n"
          ],
          "name": "stdout"
        },
        {
          "output_type": "display_data",
          "data": {
            "text/html": [
              "<div style=\"display:flex;flex-direction:row;\"><span>gen_train_loop</span><progress style='margin:2px 4px;description_width:initial;' max='5' value='0'></progress>  0% 0/5 [00:00&lt;?, ?it/s]</div>"
            ],
            "text/plain": [
              "<tqdm._fake_ipywidgets.HBox object>"
            ]
          },
          "metadata": {
            "tags": []
          }
        },
        {
          "output_type": "error",
          "ename": "KeyboardInterrupt",
          "evalue": "ignored",
          "traceback": [
            "\u001b[0;31m---------------------------------------------------------------------------\u001b[0m",
            "\u001b[0;31mKeyboardInterrupt\u001b[0m                         Traceback (most recent call last)",
            "\u001b[0;32m<ipython-input-18-78efaaad6a61>\u001b[0m in \u001b[0;36m<module>\u001b[0;34m()\u001b[0m\n\u001b[1;32m     34\u001b[0m \u001b[0;34m\u001b[0m\u001b[0m\n\u001b[1;32m     35\u001b[0m     \u001b[0;32mfor\u001b[0m \u001b[0m_\u001b[0m \u001b[0;32min\u001b[0m \u001b[0mtnrange\u001b[0m\u001b[0;34m(\u001b[0m\u001b[0mG_EPOCHS\u001b[0m\u001b[0;34m,\u001b[0m \u001b[0mdesc\u001b[0m\u001b[0;34m=\u001b[0m\u001b[0;34m'gen_train_loop'\u001b[0m\u001b[0;34m)\u001b[0m\u001b[0;34m:\u001b[0m\u001b[0;34m\u001b[0m\u001b[0;34m\u001b[0m\u001b[0m\n\u001b[0;32m---> 36\u001b[0;31m       \u001b[0mX_train\u001b[0m\u001b[0;34m,\u001b[0m \u001b[0my_train\u001b[0m\u001b[0;34m,\u001b[0m \u001b[0mX_test\u001b[0m\u001b[0;34m,\u001b[0m \u001b[0my_test\u001b[0m \u001b[0;34m=\u001b[0m \u001b[0mget_real_data\u001b[0m\u001b[0;34m(\u001b[0m\u001b[0;34m)\u001b[0m\u001b[0;34m\u001b[0m\u001b[0;34m\u001b[0m\u001b[0m\n\u001b[0m\u001b[1;32m     37\u001b[0m       \u001b[0mfake_sentences\u001b[0m\u001b[0;34m,\u001b[0m \u001b[0mfake_sequences\u001b[0m \u001b[0;34m=\u001b[0m \u001b[0mgenerator\u001b[0m\u001b[0;34m.\u001b[0m\u001b[0mgenerate\u001b[0m\u001b[0;34m(\u001b[0m\u001b[0msess\u001b[0m\u001b[0;34m,\u001b[0m \u001b[0mX_train\u001b[0m\u001b[0;34m,\u001b[0m \u001b[0mG_DROPOUT\u001b[0m\u001b[0;34m)\u001b[0m\u001b[0;34m\u001b[0m\u001b[0;34m\u001b[0m\u001b[0m\n\u001b[1;32m     38\u001b[0m       \u001b[0madd_fake_samples\u001b[0m\u001b[0;34m(\u001b[0m\u001b[0mfake_sentences\u001b[0m\u001b[0;34m)\u001b[0m\u001b[0;34m\u001b[0m\u001b[0;34m\u001b[0m\u001b[0m\n",
            "\u001b[0;32m<ipython-input-11-5a0e07f86cce>\u001b[0m in \u001b[0;36mget_real_data\u001b[0;34m()\u001b[0m\n\u001b[1;32m     32\u001b[0m \u001b[0;34m\u001b[0m\u001b[0m\n\u001b[1;32m     33\u001b[0m   \u001b[0mtexts\u001b[0m\u001b[0;34m,\u001b[0m \u001b[0mlabels\u001b[0m \u001b[0;34m=\u001b[0m \u001b[0mload_data\u001b[0m\u001b[0;34m(\u001b[0m\u001b[0mdf_real\u001b[0m\u001b[0;34m)\u001b[0m\u001b[0;34m\u001b[0m\u001b[0;34m\u001b[0m\u001b[0m\n\u001b[0;32m---> 34\u001b[0;31m   \u001b[0;32mreturn\u001b[0m \u001b[0mget_datasets\u001b[0m\u001b[0;34m(\u001b[0m\u001b[0mtexts\u001b[0m\u001b[0;34m,\u001b[0m \u001b[0mlabels\u001b[0m\u001b[0;34m)\u001b[0m\u001b[0;34m\u001b[0m\u001b[0;34m\u001b[0m\u001b[0m\n\u001b[0m\u001b[1;32m     35\u001b[0m \u001b[0;34m\u001b[0m\u001b[0m\n\u001b[1;32m     36\u001b[0m \u001b[0;32mdef\u001b[0m \u001b[0mget_mixed_data\u001b[0m\u001b[0;34m(\u001b[0m\u001b[0;34m)\u001b[0m\u001b[0;34m:\u001b[0m\u001b[0;34m\u001b[0m\u001b[0;34m\u001b[0m\u001b[0m\n",
            "\u001b[0;32m<ipython-input-11-5a0e07f86cce>\u001b[0m in \u001b[0;36mget_datasets\u001b[0;34m(texts, labels)\u001b[0m\n\u001b[1;32m      2\u001b[0m \u001b[0;34m\u001b[0m\u001b[0m\n\u001b[1;32m      3\u001b[0m \u001b[0;32mdef\u001b[0m \u001b[0mget_datasets\u001b[0m\u001b[0;34m(\u001b[0m\u001b[0mtexts\u001b[0m\u001b[0;34m,\u001b[0m \u001b[0mlabels\u001b[0m\u001b[0;34m)\u001b[0m\u001b[0;34m:\u001b[0m\u001b[0;34m\u001b[0m\u001b[0;34m\u001b[0m\u001b[0m\n\u001b[0;32m----> 4\u001b[0;31m   \u001b[0msequences\u001b[0m \u001b[0;34m=\u001b[0m \u001b[0mtokenizer\u001b[0m\u001b[0;34m.\u001b[0m\u001b[0mtexts_to_sequences\u001b[0m\u001b[0;34m(\u001b[0m\u001b[0mtexts\u001b[0m\u001b[0;34m)\u001b[0m\u001b[0;34m\u001b[0m\u001b[0;34m\u001b[0m\u001b[0m\n\u001b[0m\u001b[1;32m      5\u001b[0m   \u001b[0mtext_seq\u001b[0m \u001b[0;34m=\u001b[0m \u001b[0mpad_sequences\u001b[0m\u001b[0;34m(\u001b[0m\u001b[0msequences\u001b[0m\u001b[0;34m,\u001b[0m \u001b[0mmaxlen\u001b[0m\u001b[0;34m=\u001b[0m\u001b[0mSEQ_LENGTH\u001b[0m\u001b[0;34m)\u001b[0m\u001b[0;34m\u001b[0m\u001b[0;34m\u001b[0m\u001b[0m\n\u001b[1;32m      6\u001b[0m \u001b[0;34m\u001b[0m\u001b[0m\n",
            "\u001b[0;32m/usr/local/lib/python3.6/dist-packages/keras_preprocessing/text.py\u001b[0m in \u001b[0;36mtexts_to_sequences\u001b[0;34m(self, texts)\u001b[0m\n\u001b[1;32m    276\u001b[0m             \u001b[0mA\u001b[0m \u001b[0mlist\u001b[0m \u001b[0mof\u001b[0m \u001b[0msequences\u001b[0m\u001b[0;34m.\u001b[0m\u001b[0;34m\u001b[0m\u001b[0;34m\u001b[0m\u001b[0m\n\u001b[1;32m    277\u001b[0m         \"\"\"\n\u001b[0;32m--> 278\u001b[0;31m         \u001b[0;32mreturn\u001b[0m \u001b[0mlist\u001b[0m\u001b[0;34m(\u001b[0m\u001b[0mself\u001b[0m\u001b[0;34m.\u001b[0m\u001b[0mtexts_to_sequences_generator\u001b[0m\u001b[0;34m(\u001b[0m\u001b[0mtexts\u001b[0m\u001b[0;34m)\u001b[0m\u001b[0;34m)\u001b[0m\u001b[0;34m\u001b[0m\u001b[0;34m\u001b[0m\u001b[0m\n\u001b[0m\u001b[1;32m    279\u001b[0m \u001b[0;34m\u001b[0m\u001b[0m\n\u001b[1;32m    280\u001b[0m     \u001b[0;32mdef\u001b[0m \u001b[0mtexts_to_sequences_generator\u001b[0m\u001b[0;34m(\u001b[0m\u001b[0mself\u001b[0m\u001b[0;34m,\u001b[0m \u001b[0mtexts\u001b[0m\u001b[0;34m)\u001b[0m\u001b[0;34m:\u001b[0m\u001b[0;34m\u001b[0m\u001b[0;34m\u001b[0m\u001b[0m\n",
            "\u001b[0;32m/usr/local/lib/python3.6/dist-packages/keras_preprocessing/text.py\u001b[0m in \u001b[0;36mtexts_to_sequences_generator\u001b[0;34m(self, texts)\u001b[0m\n\u001b[1;32m    307\u001b[0m                                             \u001b[0mself\u001b[0m\u001b[0;34m.\u001b[0m\u001b[0mfilters\u001b[0m\u001b[0;34m,\u001b[0m\u001b[0;34m\u001b[0m\u001b[0;34m\u001b[0m\u001b[0m\n\u001b[1;32m    308\u001b[0m                                             \u001b[0mself\u001b[0m\u001b[0;34m.\u001b[0m\u001b[0mlower\u001b[0m\u001b[0;34m,\u001b[0m\u001b[0;34m\u001b[0m\u001b[0;34m\u001b[0m\u001b[0m\n\u001b[0;32m--> 309\u001b[0;31m                                             self.split)\n\u001b[0m\u001b[1;32m    310\u001b[0m             \u001b[0mvect\u001b[0m \u001b[0;34m=\u001b[0m \u001b[0;34m[\u001b[0m\u001b[0;34m]\u001b[0m\u001b[0;34m\u001b[0m\u001b[0;34m\u001b[0m\u001b[0m\n\u001b[1;32m    311\u001b[0m             \u001b[0;32mfor\u001b[0m \u001b[0mw\u001b[0m \u001b[0;32min\u001b[0m \u001b[0mseq\u001b[0m\u001b[0;34m:\u001b[0m\u001b[0;34m\u001b[0m\u001b[0;34m\u001b[0m\u001b[0m\n",
            "\u001b[0;32m/usr/local/lib/python3.6/dist-packages/keras_preprocessing/text.py\u001b[0m in \u001b[0;36mtext_to_word_sequence\u001b[0;34m(text, filters, lower, split)\u001b[0m\n\u001b[1;32m     54\u001b[0m                 \u001b[0mtext\u001b[0m \u001b[0;34m=\u001b[0m \u001b[0mtext\u001b[0m\u001b[0;34m.\u001b[0m\u001b[0mreplace\u001b[0m\u001b[0;34m(\u001b[0m\u001b[0mc\u001b[0m\u001b[0;34m,\u001b[0m \u001b[0msplit\u001b[0m\u001b[0;34m)\u001b[0m\u001b[0;34m\u001b[0m\u001b[0;34m\u001b[0m\u001b[0m\n\u001b[1;32m     55\u001b[0m     \u001b[0;32melse\u001b[0m\u001b[0;34m:\u001b[0m\u001b[0;34m\u001b[0m\u001b[0;34m\u001b[0m\u001b[0m\n\u001b[0;32m---> 56\u001b[0;31m         \u001b[0mtranslate_dict\u001b[0m \u001b[0;34m=\u001b[0m \u001b[0mdict\u001b[0m\u001b[0;34m(\u001b[0m\u001b[0;34m(\u001b[0m\u001b[0mc\u001b[0m\u001b[0;34m,\u001b[0m \u001b[0msplit\u001b[0m\u001b[0;34m)\u001b[0m \u001b[0;32mfor\u001b[0m \u001b[0mc\u001b[0m \u001b[0;32min\u001b[0m \u001b[0mfilters\u001b[0m\u001b[0;34m)\u001b[0m\u001b[0;34m\u001b[0m\u001b[0;34m\u001b[0m\u001b[0m\n\u001b[0m\u001b[1;32m     57\u001b[0m         \u001b[0mtranslate_map\u001b[0m \u001b[0;34m=\u001b[0m \u001b[0mmaketrans\u001b[0m\u001b[0;34m(\u001b[0m\u001b[0mtranslate_dict\u001b[0m\u001b[0;34m)\u001b[0m\u001b[0;34m\u001b[0m\u001b[0;34m\u001b[0m\u001b[0m\n\u001b[1;32m     58\u001b[0m         \u001b[0mtext\u001b[0m \u001b[0;34m=\u001b[0m \u001b[0mtext\u001b[0m\u001b[0;34m.\u001b[0m\u001b[0mtranslate\u001b[0m\u001b[0;34m(\u001b[0m\u001b[0mtranslate_map\u001b[0m\u001b[0;34m)\u001b[0m\u001b[0;34m\u001b[0m\u001b[0;34m\u001b[0m\u001b[0m\n",
            "\u001b[0;32m/usr/local/lib/python3.6/dist-packages/keras_preprocessing/text.py\u001b[0m in \u001b[0;36m<genexpr>\u001b[0;34m(.0)\u001b[0m\n\u001b[1;32m     54\u001b[0m                 \u001b[0mtext\u001b[0m \u001b[0;34m=\u001b[0m \u001b[0mtext\u001b[0m\u001b[0;34m.\u001b[0m\u001b[0mreplace\u001b[0m\u001b[0;34m(\u001b[0m\u001b[0mc\u001b[0m\u001b[0;34m,\u001b[0m \u001b[0msplit\u001b[0m\u001b[0;34m)\u001b[0m\u001b[0;34m\u001b[0m\u001b[0;34m\u001b[0m\u001b[0m\n\u001b[1;32m     55\u001b[0m     \u001b[0;32melse\u001b[0m\u001b[0;34m:\u001b[0m\u001b[0;34m\u001b[0m\u001b[0;34m\u001b[0m\u001b[0m\n\u001b[0;32m---> 56\u001b[0;31m         \u001b[0mtranslate_dict\u001b[0m \u001b[0;34m=\u001b[0m \u001b[0mdict\u001b[0m\u001b[0;34m(\u001b[0m\u001b[0;34m(\u001b[0m\u001b[0mc\u001b[0m\u001b[0;34m,\u001b[0m \u001b[0msplit\u001b[0m\u001b[0;34m)\u001b[0m \u001b[0;32mfor\u001b[0m \u001b[0mc\u001b[0m \u001b[0;32min\u001b[0m \u001b[0mfilters\u001b[0m\u001b[0;34m)\u001b[0m\u001b[0;34m\u001b[0m\u001b[0;34m\u001b[0m\u001b[0m\n\u001b[0m\u001b[1;32m     57\u001b[0m         \u001b[0mtranslate_map\u001b[0m \u001b[0;34m=\u001b[0m \u001b[0mmaketrans\u001b[0m\u001b[0;34m(\u001b[0m\u001b[0mtranslate_dict\u001b[0m\u001b[0;34m)\u001b[0m\u001b[0;34m\u001b[0m\u001b[0;34m\u001b[0m\u001b[0m\n\u001b[1;32m     58\u001b[0m         \u001b[0mtext\u001b[0m \u001b[0;34m=\u001b[0m \u001b[0mtext\u001b[0m\u001b[0;34m.\u001b[0m\u001b[0mtranslate\u001b[0m\u001b[0;34m(\u001b[0m\u001b[0mtranslate_map\u001b[0m\u001b[0;34m)\u001b[0m\u001b[0;34m\u001b[0m\u001b[0;34m\u001b[0m\u001b[0m\n",
            "\u001b[0;31mKeyboardInterrupt\u001b[0m: "
          ]
        }
      ]
    },
    {
      "metadata": {
        "id": "2TgllHrMIdaR",
        "colab_type": "code",
        "colab": {
          "base_uri": "https://localhost:8080/",
          "height": 119
        },
        "outputId": "a2f87cd3-a761-4d9e-b3a9-ed35ac60322c"
      },
      "cell_type": "code",
      "source": [
        "from pathlib import Path\n",
        "\n",
        "print(df_fake.tail())\n",
        "\n",
        "count = 1\n",
        "saved = False\n",
        "while saved != True:\n",
        "  filename = 'generated_headlines_%d.csv' % count\n",
        "  filepath = Path('./results/%s' % filename)\n",
        "  \n",
        "  if filepath.exists():\n",
        "    count = count+1\n",
        "  else:\n",
        "    df_fake.to_csv(filepath, sep='\\t', encoding='utf-8')\n",
        "    saved = True"
      ],
      "execution_count": 19,
      "outputs": [
        {
          "output_type": "stream",
          "text": [
            "                                                text fake\n",
            "13115      apn spruiks explained clubhouse rollover     1\n",
            "13116                  bitter bravo lied aaron lure     1\n",
            "13117       thunderstorms research cctv near mozzie     1\n",
            "13118  austerity coal mortlock federalism cambodias     1\n",
            "13119              queen tourist wednesday saia bic     1\n"
          ],
          "name": "stdout"
        }
      ]
    },
    {
      "metadata": {
        "id": "qaXiLTyPg_AM",
        "colab_type": "code",
        "colab": {}
      },
      "cell_type": "code",
      "source": [
        ""
      ],
      "execution_count": 0,
      "outputs": []
    }
  ]
}